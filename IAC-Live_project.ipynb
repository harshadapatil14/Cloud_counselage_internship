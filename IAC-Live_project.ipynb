{
 "cells": [
  {
   "cell_type": "markdown",
   "id": "3c09b43d",
   "metadata": {},
   "source": [
    "## Project Objective:\n",
    "We aim to conduct a comprehensive analysis of our student interns to gain insight about the relationship between the factors influencing their success"
   ]
  },
  {
   "cell_type": "code",
   "execution_count": 1,
   "id": "d2984f86",
   "metadata": {
    "ExecuteTime": {
     "end_time": "2023-09-19T10:03:51.132961Z",
     "start_time": "2023-09-19T10:03:49.275971Z"
    }
   },
   "outputs": [],
   "source": [
    "# Important libraries\n",
    "import numpy as np\n",
    "import pandas as pd \n",
    "import matplotlib.pyplot as plt \n",
    "import seaborn as sns\n",
    "\n",
    "import warnings \n",
    "warnings.filterwarnings(\"ignore\") "
   ]
  },
  {
   "cell_type": "markdown",
   "id": "a109aa3c",
   "metadata": {},
   "source": [
    "## Import Dataset"
   ]
  },
  {
   "cell_type": "code",
   "execution_count": 2,
   "id": "e144c1b6",
   "metadata": {
    "ExecuteTime": {
     "end_time": "2023-09-19T10:03:52.483035Z",
     "start_time": "2023-09-19T10:03:51.132961Z"
    }
   },
   "outputs": [
    {
     "data": {
      "text/html": [
       "<div>\n",
       "<style scoped>\n",
       "    .dataframe tbody tr th:only-of-type {\n",
       "        vertical-align: middle;\n",
       "    }\n",
       "\n",
       "    .dataframe tbody tr th {\n",
       "        vertical-align: top;\n",
       "    }\n",
       "\n",
       "    .dataframe thead th {\n",
       "        text-align: right;\n",
       "    }\n",
       "</style>\n",
       "<table border=\"1\" class=\"dataframe\">\n",
       "  <thead>\n",
       "    <tr style=\"text-align: right;\">\n",
       "      <th></th>\n",
       "      <th>First Name</th>\n",
       "      <th>Email ID</th>\n",
       "      <th>Quantity</th>\n",
       "      <th>Events</th>\n",
       "      <th>Attendee Status</th>\n",
       "      <th>College Name</th>\n",
       "      <th>How did you come to know about this event?</th>\n",
       "      <th>Specify in \"Others\" (how did you come to know about this event)</th>\n",
       "      <th>Designation</th>\n",
       "      <th>Year of Graduation</th>\n",
       "      <th>City</th>\n",
       "      <th>CGPA</th>\n",
       "      <th>Experience with python (Months)</th>\n",
       "      <th>Family Income</th>\n",
       "      <th>Expected salary (Lac)</th>\n",
       "      <th>Leadership- skills</th>\n",
       "    </tr>\n",
       "  </thead>\n",
       "  <tbody>\n",
       "    <tr>\n",
       "      <th>0</th>\n",
       "      <td>ANIKET</td>\n",
       "      <td>aniket@xyz.com</td>\n",
       "      <td>1</td>\n",
       "      <td>Art of Resume Building</td>\n",
       "      <td>Attending</td>\n",
       "      <td>D Y PATIL INSTITUTE OF MCA AND MANAGEMENT AKUR...</td>\n",
       "      <td>Email</td>\n",
       "      <td>NaN</td>\n",
       "      <td>Students</td>\n",
       "      <td>2024</td>\n",
       "      <td>Patna</td>\n",
       "      <td>6.7</td>\n",
       "      <td>7</td>\n",
       "      <td>7 Lakh+</td>\n",
       "      <td>6</td>\n",
       "      <td>yes</td>\n",
       "    </tr>\n",
       "    <tr>\n",
       "      <th>1</th>\n",
       "      <td>Dhanshree</td>\n",
       "      <td>dhanshree@xyz.com</td>\n",
       "      <td>1</td>\n",
       "      <td>Art of Resume Building</td>\n",
       "      <td>Attending</td>\n",
       "      <td>AP SHAH INSTITUTE OF TECHNOLOGY</td>\n",
       "      <td>Others</td>\n",
       "      <td>College</td>\n",
       "      <td>Students</td>\n",
       "      <td>2024</td>\n",
       "      <td>Amravati</td>\n",
       "      <td>8.2</td>\n",
       "      <td>3</td>\n",
       "      <td>0-2 Lakh</td>\n",
       "      <td>7</td>\n",
       "      <td>no</td>\n",
       "    </tr>\n",
       "    <tr>\n",
       "      <th>2</th>\n",
       "      <td>Dhiraj</td>\n",
       "      <td>dhiraj@xyz.com</td>\n",
       "      <td>1</td>\n",
       "      <td>Art of Resume Building</td>\n",
       "      <td>Attending</td>\n",
       "      <td>Don Bosco College of Engineering Fatorda Goa</td>\n",
       "      <td>Email</td>\n",
       "      <td>NaN</td>\n",
       "      <td>Students</td>\n",
       "      <td>2023</td>\n",
       "      <td>Kunrool</td>\n",
       "      <td>6.5</td>\n",
       "      <td>4</td>\n",
       "      <td>5-7 Lakh</td>\n",
       "      <td>7</td>\n",
       "      <td>no</td>\n",
       "    </tr>\n",
       "    <tr>\n",
       "      <th>3</th>\n",
       "      <td>Pooja</td>\n",
       "      <td>pooja@xyz.com</td>\n",
       "      <td>1</td>\n",
       "      <td>Art of Resume Building</td>\n",
       "      <td>Attending</td>\n",
       "      <td>Pillai College of Engineering New Panvel</td>\n",
       "      <td>Email</td>\n",
       "      <td>NaN</td>\n",
       "      <td>Students</td>\n",
       "      <td>2025</td>\n",
       "      <td>Tirupati</td>\n",
       "      <td>8.7</td>\n",
       "      <td>7</td>\n",
       "      <td>2-5 Lakh</td>\n",
       "      <td>8</td>\n",
       "      <td>no</td>\n",
       "    </tr>\n",
       "    <tr>\n",
       "      <th>4</th>\n",
       "      <td>Aayush</td>\n",
       "      <td>aayush@xyz.com</td>\n",
       "      <td>1</td>\n",
       "      <td>Art of Resume Building</td>\n",
       "      <td>Attending</td>\n",
       "      <td>St Xavier's College</td>\n",
       "      <td>Instagram | LinkedIn | Cloud Counselage Website</td>\n",
       "      <td>NaN</td>\n",
       "      <td>Students</td>\n",
       "      <td>2024</td>\n",
       "      <td>Vijaywada</td>\n",
       "      <td>9.1</td>\n",
       "      <td>3</td>\n",
       "      <td>0-2 Lakh</td>\n",
       "      <td>10</td>\n",
       "      <td>yes</td>\n",
       "    </tr>\n",
       "  </tbody>\n",
       "</table>\n",
       "</div>"
      ],
      "text/plain": [
       "  First Name           Email ID  Quantity                  Events  \\\n",
       "0     ANIKET     aniket@xyz.com         1  Art of Resume Building   \n",
       "1  Dhanshree  dhanshree@xyz.com         1  Art of Resume Building   \n",
       "2     Dhiraj     dhiraj@xyz.com         1  Art of Resume Building   \n",
       "3      Pooja      pooja@xyz.com         1  Art of Resume Building   \n",
       "4     Aayush     aayush@xyz.com         1  Art of Resume Building   \n",
       "\n",
       "  Attendee Status                                       College Name  \\\n",
       "0       Attending  D Y PATIL INSTITUTE OF MCA AND MANAGEMENT AKUR...   \n",
       "1       Attending                   AP SHAH INSTITUTE OF TECHNOLOGY    \n",
       "2       Attending       Don Bosco College of Engineering Fatorda Goa   \n",
       "3       Attending           Pillai College of Engineering New Panvel   \n",
       "4       Attending                               St Xavier's College    \n",
       "\n",
       "        How did you come to know about this event?  \\\n",
       "0                                            Email   \n",
       "1                                           Others   \n",
       "2                                            Email   \n",
       "3                                            Email   \n",
       "4  Instagram | LinkedIn | Cloud Counselage Website   \n",
       "\n",
       "  Specify in \"Others\" (how did you come to know about this event) Designation  \\\n",
       "0                                                NaN                 Students   \n",
       "1                                            College                 Students   \n",
       "2                                                NaN                 Students   \n",
       "3                                                NaN                 Students   \n",
       "4                                                NaN                 Students   \n",
       "\n",
       "   Year of Graduation       City  CGPA  Experience with python (Months)  \\\n",
       "0                2024      Patna   6.7                                7   \n",
       "1                2024   Amravati   8.2                                3   \n",
       "2                2023    Kunrool   6.5                                4   \n",
       "3                2025   Tirupati   8.7                                7   \n",
       "4                2024  Vijaywada   9.1                                3   \n",
       "\n",
       "  Family Income  Expected salary (Lac) Leadership- skills  \n",
       "0       7 Lakh+                      6                yes  \n",
       "1      0-2 Lakh                      7                 no  \n",
       "2      5-7 Lakh                      7                 no  \n",
       "3      2-5 Lakh                      8                 no  \n",
       "4      0-2 Lakh                     10                yes  "
      ]
     },
     "execution_count": 2,
     "metadata": {},
     "output_type": "execute_result"
    }
   ],
   "source": [
    "df = pd.read_excel(\"D:\\My study material\\MSC DS\\SEM-3\\Internship\\Problem_statement\\Data analyst Data.xlsx\")\n",
    "df.head()"
   ]
  },
  {
   "cell_type": "code",
   "execution_count": 3,
   "id": "f4347d01",
   "metadata": {
    "ExecuteTime": {
     "end_time": "2023-09-19T10:03:52.512602Z",
     "start_time": "2023-09-19T10:03:52.485982Z"
    }
   },
   "outputs": [
    {
     "data": {
      "text/plain": [
       "Specify in \"Others\" (how did you come to know about this event)    4805\n",
       "How did you come to know about this event?                         2216\n",
       "College Name                                                         15\n",
       "First Name                                                            0\n",
       "Email ID                                                              0\n",
       "Quantity                                                              0\n",
       "Events                                                                0\n",
       "Attendee Status                                                       0\n",
       "Designation                                                           0\n",
       "Year of Graduation                                                    0\n",
       "City                                                                  0\n",
       "CGPA                                                                  0\n",
       "Experience with python (Months)                                       0\n",
       "Family Income                                                         0\n",
       "Expected salary (Lac)                                                 0\n",
       "Leadership- skills                                                    0\n",
       "dtype: int64"
      ]
     },
     "execution_count": 3,
     "metadata": {},
     "output_type": "execute_result"
    }
   ],
   "source": [
    "# check null values\n",
    "df.isnull().sum().sort_values(ascending=False)"
   ]
  },
  {
   "cell_type": "code",
   "execution_count": 4,
   "id": "347fda70",
   "metadata": {
    "ExecuteTime": {
     "end_time": "2023-09-19T10:03:52.561342Z",
     "start_time": "2023-09-19T10:03:52.515576Z"
    }
   },
   "outputs": [
    {
     "name": "stdout",
     "output_type": "stream",
     "text": [
      "<class 'pandas.core.frame.DataFrame'>\n",
      "RangeIndex: 4894 entries, 0 to 4893\n",
      "Data columns (total 16 columns):\n",
      " #   Column                                                           Non-Null Count  Dtype  \n",
      "---  ------                                                           --------------  -----  \n",
      " 0   First Name                                                       4894 non-null   object \n",
      " 1   Email ID                                                         4894 non-null   object \n",
      " 2   Quantity                                                         4894 non-null   int64  \n",
      " 3   Events                                                           4894 non-null   object \n",
      " 4   Attendee Status                                                  4894 non-null   object \n",
      " 5   College Name                                                     4879 non-null   object \n",
      " 6   How did you come to know about this event?                       2678 non-null   object \n",
      " 7   Specify in \"Others\" (how did you come to know about this event)  89 non-null     object \n",
      " 8   Designation                                                      4894 non-null   object \n",
      " 9   Year of Graduation                                               4894 non-null   int64  \n",
      " 10  City                                                             4894 non-null   object \n",
      " 11  CGPA                                                             4894 non-null   float64\n",
      " 12  Experience with python (Months)                                  4894 non-null   int64  \n",
      " 13  Family Income                                                    4894 non-null   object \n",
      " 14  Expected salary (Lac)                                            4894 non-null   int64  \n",
      " 15  Leadership- skills                                               4894 non-null   object \n",
      "dtypes: float64(1), int64(4), object(11)\n",
      "memory usage: 611.9+ KB\n"
     ]
    }
   ],
   "source": [
    "df.info()"
   ]
  },
  {
   "cell_type": "code",
   "execution_count": 5,
   "id": "70f106af",
   "metadata": {
    "ExecuteTime": {
     "end_time": "2023-09-19T10:03:52.592936Z",
     "start_time": "2023-09-19T10:03:52.563334Z"
    }
   },
   "outputs": [
    {
     "data": {
      "text/html": [
       "<div>\n",
       "<style scoped>\n",
       "    .dataframe tbody tr th:only-of-type {\n",
       "        vertical-align: middle;\n",
       "    }\n",
       "\n",
       "    .dataframe tbody tr th {\n",
       "        vertical-align: top;\n",
       "    }\n",
       "\n",
       "    .dataframe thead th {\n",
       "        text-align: right;\n",
       "    }\n",
       "</style>\n",
       "<table border=\"1\" class=\"dataframe\">\n",
       "  <thead>\n",
       "    <tr style=\"text-align: right;\">\n",
       "      <th></th>\n",
       "      <th>First Name</th>\n",
       "      <th>Email ID</th>\n",
       "      <th>Quantity</th>\n",
       "      <th>Events</th>\n",
       "      <th>Attendee Status</th>\n",
       "      <th>College Name</th>\n",
       "      <th>How did you come to know about this event?</th>\n",
       "      <th>Designation</th>\n",
       "      <th>Year of Graduation</th>\n",
       "      <th>City</th>\n",
       "      <th>CGPA</th>\n",
       "      <th>Experience with python (Months)</th>\n",
       "      <th>Family Income</th>\n",
       "      <th>Expected salary (Lac)</th>\n",
       "      <th>Leadership- skills</th>\n",
       "    </tr>\n",
       "  </thead>\n",
       "  <tbody>\n",
       "    <tr>\n",
       "      <th>0</th>\n",
       "      <td>ANIKET</td>\n",
       "      <td>aniket@xyz.com</td>\n",
       "      <td>1</td>\n",
       "      <td>Art of Resume Building</td>\n",
       "      <td>Attending</td>\n",
       "      <td>D Y PATIL INSTITUTE OF MCA AND MANAGEMENT AKUR...</td>\n",
       "      <td>Email</td>\n",
       "      <td>Students</td>\n",
       "      <td>2024</td>\n",
       "      <td>Patna</td>\n",
       "      <td>6.7</td>\n",
       "      <td>7</td>\n",
       "      <td>7 Lakh+</td>\n",
       "      <td>6</td>\n",
       "      <td>yes</td>\n",
       "    </tr>\n",
       "    <tr>\n",
       "      <th>1</th>\n",
       "      <td>Dhanshree</td>\n",
       "      <td>dhanshree@xyz.com</td>\n",
       "      <td>1</td>\n",
       "      <td>Art of Resume Building</td>\n",
       "      <td>Attending</td>\n",
       "      <td>AP SHAH INSTITUTE OF TECHNOLOGY</td>\n",
       "      <td>Others</td>\n",
       "      <td>Students</td>\n",
       "      <td>2024</td>\n",
       "      <td>Amravati</td>\n",
       "      <td>8.2</td>\n",
       "      <td>3</td>\n",
       "      <td>0-2 Lakh</td>\n",
       "      <td>7</td>\n",
       "      <td>no</td>\n",
       "    </tr>\n",
       "    <tr>\n",
       "      <th>2</th>\n",
       "      <td>Dhiraj</td>\n",
       "      <td>dhiraj@xyz.com</td>\n",
       "      <td>1</td>\n",
       "      <td>Art of Resume Building</td>\n",
       "      <td>Attending</td>\n",
       "      <td>Don Bosco College of Engineering Fatorda Goa</td>\n",
       "      <td>Email</td>\n",
       "      <td>Students</td>\n",
       "      <td>2023</td>\n",
       "      <td>Kunrool</td>\n",
       "      <td>6.5</td>\n",
       "      <td>4</td>\n",
       "      <td>5-7 Lakh</td>\n",
       "      <td>7</td>\n",
       "      <td>no</td>\n",
       "    </tr>\n",
       "    <tr>\n",
       "      <th>3</th>\n",
       "      <td>Pooja</td>\n",
       "      <td>pooja@xyz.com</td>\n",
       "      <td>1</td>\n",
       "      <td>Art of Resume Building</td>\n",
       "      <td>Attending</td>\n",
       "      <td>Pillai College of Engineering New Panvel</td>\n",
       "      <td>Email</td>\n",
       "      <td>Students</td>\n",
       "      <td>2025</td>\n",
       "      <td>Tirupati</td>\n",
       "      <td>8.7</td>\n",
       "      <td>7</td>\n",
       "      <td>2-5 Lakh</td>\n",
       "      <td>8</td>\n",
       "      <td>no</td>\n",
       "    </tr>\n",
       "    <tr>\n",
       "      <th>4</th>\n",
       "      <td>Aayush</td>\n",
       "      <td>aayush@xyz.com</td>\n",
       "      <td>1</td>\n",
       "      <td>Art of Resume Building</td>\n",
       "      <td>Attending</td>\n",
       "      <td>St Xavier's College</td>\n",
       "      <td>Instagram | LinkedIn | Cloud Counselage Website</td>\n",
       "      <td>Students</td>\n",
       "      <td>2024</td>\n",
       "      <td>Vijaywada</td>\n",
       "      <td>9.1</td>\n",
       "      <td>3</td>\n",
       "      <td>0-2 Lakh</td>\n",
       "      <td>10</td>\n",
       "      <td>yes</td>\n",
       "    </tr>\n",
       "  </tbody>\n",
       "</table>\n",
       "</div>"
      ],
      "text/plain": [
       "  First Name           Email ID  Quantity                  Events  \\\n",
       "0     ANIKET     aniket@xyz.com         1  Art of Resume Building   \n",
       "1  Dhanshree  dhanshree@xyz.com         1  Art of Resume Building   \n",
       "2     Dhiraj     dhiraj@xyz.com         1  Art of Resume Building   \n",
       "3      Pooja      pooja@xyz.com         1  Art of Resume Building   \n",
       "4     Aayush     aayush@xyz.com         1  Art of Resume Building   \n",
       "\n",
       "  Attendee Status                                       College Name  \\\n",
       "0       Attending  D Y PATIL INSTITUTE OF MCA AND MANAGEMENT AKUR...   \n",
       "1       Attending                   AP SHAH INSTITUTE OF TECHNOLOGY    \n",
       "2       Attending       Don Bosco College of Engineering Fatorda Goa   \n",
       "3       Attending           Pillai College of Engineering New Panvel   \n",
       "4       Attending                               St Xavier's College    \n",
       "\n",
       "        How did you come to know about this event? Designation  \\\n",
       "0                                            Email    Students   \n",
       "1                                           Others    Students   \n",
       "2                                            Email    Students   \n",
       "3                                            Email    Students   \n",
       "4  Instagram | LinkedIn | Cloud Counselage Website    Students   \n",
       "\n",
       "   Year of Graduation       City  CGPA  Experience with python (Months)  \\\n",
       "0                2024      Patna   6.7                                7   \n",
       "1                2024   Amravati   8.2                                3   \n",
       "2                2023    Kunrool   6.5                                4   \n",
       "3                2025   Tirupati   8.7                                7   \n",
       "4                2024  Vijaywada   9.1                                3   \n",
       "\n",
       "  Family Income  Expected salary (Lac) Leadership- skills  \n",
       "0       7 Lakh+                      6                yes  \n",
       "1      0-2 Lakh                      7                 no  \n",
       "2      5-7 Lakh                      7                 no  \n",
       "3      2-5 Lakh                      8                 no  \n",
       "4      0-2 Lakh                     10                yes  "
      ]
     },
     "execution_count": 5,
     "metadata": {},
     "output_type": "execute_result"
    }
   ],
   "source": [
    "# drop column which has many null values\n",
    "\n",
    "drop_column = 'Specify in \"Others\" (how did you come to know about this event)'\n",
    "df=df.drop(drop_column,axis=1) \n",
    "df.head()"
   ]
  },
  {
   "cell_type": "code",
   "execution_count": 6,
   "id": "d9fb6107",
   "metadata": {
    "ExecuteTime": {
     "end_time": "2023-09-19T10:03:52.616652Z",
     "start_time": "2023-09-19T10:03:52.594931Z"
    }
   },
   "outputs": [
    {
     "data": {
      "text/html": [
       "<div>\n",
       "<style scoped>\n",
       "    .dataframe tbody tr th:only-of-type {\n",
       "        vertical-align: middle;\n",
       "    }\n",
       "\n",
       "    .dataframe tbody tr th {\n",
       "        vertical-align: top;\n",
       "    }\n",
       "\n",
       "    .dataframe thead th {\n",
       "        text-align: right;\n",
       "    }\n",
       "</style>\n",
       "<table border=\"1\" class=\"dataframe\">\n",
       "  <thead>\n",
       "    <tr style=\"text-align: right;\">\n",
       "      <th></th>\n",
       "      <th>First Name</th>\n",
       "      <th>Email ID</th>\n",
       "      <th>Quantity</th>\n",
       "      <th>Events</th>\n",
       "      <th>Attendee Status</th>\n",
       "      <th>College Name</th>\n",
       "      <th>Designation</th>\n",
       "      <th>Year of Graduation</th>\n",
       "      <th>City</th>\n",
       "      <th>CGPA</th>\n",
       "      <th>Experience with python (Months)</th>\n",
       "      <th>Family Income</th>\n",
       "      <th>Expected salary (Lac)</th>\n",
       "      <th>Leadership- skills</th>\n",
       "    </tr>\n",
       "  </thead>\n",
       "  <tbody>\n",
       "    <tr>\n",
       "      <th>0</th>\n",
       "      <td>ANIKET</td>\n",
       "      <td>aniket@xyz.com</td>\n",
       "      <td>1</td>\n",
       "      <td>Art of Resume Building</td>\n",
       "      <td>Attending</td>\n",
       "      <td>D Y PATIL INSTITUTE OF MCA AND MANAGEMENT AKUR...</td>\n",
       "      <td>Students</td>\n",
       "      <td>2024</td>\n",
       "      <td>Patna</td>\n",
       "      <td>6.7</td>\n",
       "      <td>7</td>\n",
       "      <td>7 Lakh+</td>\n",
       "      <td>6</td>\n",
       "      <td>yes</td>\n",
       "    </tr>\n",
       "    <tr>\n",
       "      <th>1</th>\n",
       "      <td>Dhanshree</td>\n",
       "      <td>dhanshree@xyz.com</td>\n",
       "      <td>1</td>\n",
       "      <td>Art of Resume Building</td>\n",
       "      <td>Attending</td>\n",
       "      <td>AP SHAH INSTITUTE OF TECHNOLOGY</td>\n",
       "      <td>Students</td>\n",
       "      <td>2024</td>\n",
       "      <td>Amravati</td>\n",
       "      <td>8.2</td>\n",
       "      <td>3</td>\n",
       "      <td>0-2 Lakh</td>\n",
       "      <td>7</td>\n",
       "      <td>no</td>\n",
       "    </tr>\n",
       "    <tr>\n",
       "      <th>2</th>\n",
       "      <td>Dhiraj</td>\n",
       "      <td>dhiraj@xyz.com</td>\n",
       "      <td>1</td>\n",
       "      <td>Art of Resume Building</td>\n",
       "      <td>Attending</td>\n",
       "      <td>Don Bosco College of Engineering Fatorda Goa</td>\n",
       "      <td>Students</td>\n",
       "      <td>2023</td>\n",
       "      <td>Kunrool</td>\n",
       "      <td>6.5</td>\n",
       "      <td>4</td>\n",
       "      <td>5-7 Lakh</td>\n",
       "      <td>7</td>\n",
       "      <td>no</td>\n",
       "    </tr>\n",
       "    <tr>\n",
       "      <th>3</th>\n",
       "      <td>Pooja</td>\n",
       "      <td>pooja@xyz.com</td>\n",
       "      <td>1</td>\n",
       "      <td>Art of Resume Building</td>\n",
       "      <td>Attending</td>\n",
       "      <td>Pillai College of Engineering New Panvel</td>\n",
       "      <td>Students</td>\n",
       "      <td>2025</td>\n",
       "      <td>Tirupati</td>\n",
       "      <td>8.7</td>\n",
       "      <td>7</td>\n",
       "      <td>2-5 Lakh</td>\n",
       "      <td>8</td>\n",
       "      <td>no</td>\n",
       "    </tr>\n",
       "    <tr>\n",
       "      <th>4</th>\n",
       "      <td>Aayush</td>\n",
       "      <td>aayush@xyz.com</td>\n",
       "      <td>1</td>\n",
       "      <td>Art of Resume Building</td>\n",
       "      <td>Attending</td>\n",
       "      <td>St Xavier's College</td>\n",
       "      <td>Students</td>\n",
       "      <td>2024</td>\n",
       "      <td>Vijaywada</td>\n",
       "      <td>9.1</td>\n",
       "      <td>3</td>\n",
       "      <td>0-2 Lakh</td>\n",
       "      <td>10</td>\n",
       "      <td>yes</td>\n",
       "    </tr>\n",
       "  </tbody>\n",
       "</table>\n",
       "</div>"
      ],
      "text/plain": [
       "  First Name           Email ID  Quantity                  Events  \\\n",
       "0     ANIKET     aniket@xyz.com         1  Art of Resume Building   \n",
       "1  Dhanshree  dhanshree@xyz.com         1  Art of Resume Building   \n",
       "2     Dhiraj     dhiraj@xyz.com         1  Art of Resume Building   \n",
       "3      Pooja      pooja@xyz.com         1  Art of Resume Building   \n",
       "4     Aayush     aayush@xyz.com         1  Art of Resume Building   \n",
       "\n",
       "  Attendee Status                                       College Name  \\\n",
       "0       Attending  D Y PATIL INSTITUTE OF MCA AND MANAGEMENT AKUR...   \n",
       "1       Attending                   AP SHAH INSTITUTE OF TECHNOLOGY    \n",
       "2       Attending       Don Bosco College of Engineering Fatorda Goa   \n",
       "3       Attending           Pillai College of Engineering New Panvel   \n",
       "4       Attending                               St Xavier's College    \n",
       "\n",
       "  Designation  Year of Graduation       City  CGPA  \\\n",
       "0    Students                2024      Patna   6.7   \n",
       "1    Students                2024   Amravati   8.2   \n",
       "2    Students                2023    Kunrool   6.5   \n",
       "3    Students                2025   Tirupati   8.7   \n",
       "4    Students                2024  Vijaywada   9.1   \n",
       "\n",
       "   Experience with python (Months) Family Income  Expected salary (Lac)  \\\n",
       "0                                7       7 Lakh+                      6   \n",
       "1                                3      0-2 Lakh                      7   \n",
       "2                                4      5-7 Lakh                      7   \n",
       "3                                7      2-5 Lakh                      8   \n",
       "4                                3      0-2 Lakh                     10   \n",
       "\n",
       "  Leadership- skills  \n",
       "0                yes  \n",
       "1                 no  \n",
       "2                 no  \n",
       "3                 no  \n",
       "4                yes  "
      ]
     },
     "execution_count": 6,
     "metadata": {},
     "output_type": "execute_result"
    }
   ],
   "source": [
    "drop_column = 'How did you come to know about this event?'\n",
    "df=df.drop(drop_column,axis=1) \n",
    "df.head()"
   ]
  },
  {
   "cell_type": "code",
   "execution_count": 7,
   "id": "bd8e2296",
   "metadata": {
    "ExecuteTime": {
     "end_time": "2023-09-19T10:03:52.641324Z",
     "start_time": "2023-09-19T10:03:52.618894Z"
    }
   },
   "outputs": [
    {
     "data": {
      "text/plain": [
       "College Name                       15\n",
       "First Name                          0\n",
       "Email ID                            0\n",
       "Quantity                            0\n",
       "Events                              0\n",
       "Attendee Status                     0\n",
       "Designation                         0\n",
       "Year of Graduation                  0\n",
       "City                                0\n",
       "CGPA                                0\n",
       "Experience with python (Months)     0\n",
       "Family Income                       0\n",
       "Expected salary (Lac)               0\n",
       "Leadership- skills                  0\n",
       "dtype: int64"
      ]
     },
     "execution_count": 7,
     "metadata": {},
     "output_type": "execute_result"
    }
   ],
   "source": [
    "df.isnull().sum().sort_values(ascending=False)"
   ]
  },
  {
   "cell_type": "code",
   "execution_count": 8,
   "id": "9fadd08c",
   "metadata": {
    "ExecuteTime": {
     "end_time": "2023-09-19T10:03:52.672681Z",
     "start_time": "2023-09-19T10:03:52.641324Z"
    }
   },
   "outputs": [
    {
     "data": {
      "text/html": [
       "<div>\n",
       "<style scoped>\n",
       "    .dataframe tbody tr th:only-of-type {\n",
       "        vertical-align: middle;\n",
       "    }\n",
       "\n",
       "    .dataframe tbody tr th {\n",
       "        vertical-align: top;\n",
       "    }\n",
       "\n",
       "    .dataframe thead th {\n",
       "        text-align: right;\n",
       "    }\n",
       "</style>\n",
       "<table border=\"1\" class=\"dataframe\">\n",
       "  <thead>\n",
       "    <tr style=\"text-align: right;\">\n",
       "      <th></th>\n",
       "      <th>Quantity</th>\n",
       "      <th>Year of Graduation</th>\n",
       "      <th>CGPA</th>\n",
       "      <th>Experience with python (Months)</th>\n",
       "      <th>Expected salary (Lac)</th>\n",
       "    </tr>\n",
       "  </thead>\n",
       "  <tbody>\n",
       "    <tr>\n",
       "      <th>count</th>\n",
       "      <td>4894.0</td>\n",
       "      <td>4894.000000</td>\n",
       "      <td>4894.000000</td>\n",
       "      <td>4894.000000</td>\n",
       "      <td>4894.000000</td>\n",
       "    </tr>\n",
       "    <tr>\n",
       "      <th>mean</th>\n",
       "      <td>1.0</td>\n",
       "      <td>2024.176951</td>\n",
       "      <td>8.038476</td>\n",
       "      <td>5.395586</td>\n",
       "      <td>13.935635</td>\n",
       "    </tr>\n",
       "    <tr>\n",
       "      <th>std</th>\n",
       "      <td>0.0</td>\n",
       "      <td>1.000180</td>\n",
       "      <td>1.005184</td>\n",
       "      <td>1.705364</td>\n",
       "      <td>6.451959</td>\n",
       "    </tr>\n",
       "    <tr>\n",
       "      <th>min</th>\n",
       "      <td>1.0</td>\n",
       "      <td>2023.000000</td>\n",
       "      <td>6.200000</td>\n",
       "      <td>3.000000</td>\n",
       "      <td>5.000000</td>\n",
       "    </tr>\n",
       "    <tr>\n",
       "      <th>25%</th>\n",
       "      <td>1.0</td>\n",
       "      <td>2023.000000</td>\n",
       "      <td>7.200000</td>\n",
       "      <td>4.000000</td>\n",
       "      <td>8.000000</td>\n",
       "    </tr>\n",
       "    <tr>\n",
       "      <th>50%</th>\n",
       "      <td>1.0</td>\n",
       "      <td>2024.000000</td>\n",
       "      <td>7.900000</td>\n",
       "      <td>5.000000</td>\n",
       "      <td>13.000000</td>\n",
       "    </tr>\n",
       "    <tr>\n",
       "      <th>75%</th>\n",
       "      <td>1.0</td>\n",
       "      <td>2025.000000</td>\n",
       "      <td>8.900000</td>\n",
       "      <td>7.000000</td>\n",
       "      <td>19.000000</td>\n",
       "    </tr>\n",
       "    <tr>\n",
       "      <th>max</th>\n",
       "      <td>1.0</td>\n",
       "      <td>2026.000000</td>\n",
       "      <td>9.900000</td>\n",
       "      <td>8.000000</td>\n",
       "      <td>35.000000</td>\n",
       "    </tr>\n",
       "  </tbody>\n",
       "</table>\n",
       "</div>"
      ],
      "text/plain": [
       "       Quantity  Year of Graduation         CGPA  \\\n",
       "count    4894.0         4894.000000  4894.000000   \n",
       "mean        1.0         2024.176951     8.038476   \n",
       "std         0.0            1.000180     1.005184   \n",
       "min         1.0         2023.000000     6.200000   \n",
       "25%         1.0         2023.000000     7.200000   \n",
       "50%         1.0         2024.000000     7.900000   \n",
       "75%         1.0         2025.000000     8.900000   \n",
       "max         1.0         2026.000000     9.900000   \n",
       "\n",
       "       Experience with python (Months)  Expected salary (Lac)  \n",
       "count                      4894.000000            4894.000000  \n",
       "mean                          5.395586              13.935635  \n",
       "std                           1.705364               6.451959  \n",
       "min                           3.000000               5.000000  \n",
       "25%                           4.000000               8.000000  \n",
       "50%                           5.000000              13.000000  \n",
       "75%                           7.000000              19.000000  \n",
       "max                           8.000000              35.000000  "
      ]
     },
     "execution_count": 8,
     "metadata": {},
     "output_type": "execute_result"
    }
   ],
   "source": [
    "# describe data\n",
    "df.describe()"
   ]
  },
  {
   "cell_type": "code",
   "execution_count": 9,
   "id": "422a0fd2",
   "metadata": {
    "ExecuteTime": {
     "end_time": "2023-09-19T10:03:52.689189Z",
     "start_time": "2023-09-19T10:03:52.678735Z"
    }
   },
   "outputs": [
    {
     "data": {
      "text/plain": [
       "Index(['First Name', 'Email ID', 'Quantity', 'Events', 'Attendee Status',\n",
       "       'College Name', 'Designation', 'Year of Graduation', 'City', 'CGPA',\n",
       "       'Experience with python (Months)', 'Family Income',\n",
       "       'Expected salary (Lac)', 'Leadership- skills'],\n",
       "      dtype='object')"
      ]
     },
     "execution_count": 9,
     "metadata": {},
     "output_type": "execute_result"
    }
   ],
   "source": [
    "df.columns"
   ]
  },
  {
   "cell_type": "code",
   "execution_count": 10,
   "id": "13c92677",
   "metadata": {
    "ExecuteTime": {
     "end_time": "2023-09-19T10:03:52.703297Z",
     "start_time": "2023-09-19T10:03:52.693513Z"
    }
   },
   "outputs": [],
   "source": [
    "# change the columns name for better understanding\n",
    "new_col_name = {'First Name':'First_Name', \n",
    "            'Email ID':'Email_ID', \n",
    "            'Attendee Status':'Attendee_Status',\n",
    "            'College Name':'College_Name', \n",
    "            'Year of Graduation':'Graduation_year',\n",
    "            'Experience with python (Months)':'Month_of_exp_python', \n",
    "            'Family Income':'Family_Income',\n",
    "            'Expected salary (Lac)':'Expected_salary_lac', \n",
    "            'Leadership- skills':'Leadership_skills'\n",
    "           }\n",
    "\n",
    "df.rename(columns=new_col_name, inplace=True)"
   ]
  },
  {
   "cell_type": "code",
   "execution_count": 11,
   "id": "ce67eb9e",
   "metadata": {
    "ExecuteTime": {
     "end_time": "2023-09-19T10:03:52.718958Z",
     "start_time": "2023-09-19T10:03:52.708808Z"
    }
   },
   "outputs": [
    {
     "data": {
      "text/plain": [
       "Index(['First_Name', 'Email_ID', 'Quantity', 'Events', 'Attendee_Status',\n",
       "       'College_Name', 'Designation', 'Graduation_year', 'City', 'CGPA',\n",
       "       'Month_of_exp_python', 'Family_Income', 'Expected_salary_lac',\n",
       "       'Leadership_skills'],\n",
       "      dtype='object')"
      ]
     },
     "execution_count": 11,
     "metadata": {},
     "output_type": "execute_result"
    }
   ],
   "source": [
    "df.columns"
   ]
  },
  {
   "cell_type": "code",
   "execution_count": 12,
   "id": "e4b2ad5b",
   "metadata": {
    "ExecuteTime": {
     "end_time": "2023-09-19T10:03:52.734101Z",
     "start_time": "2023-09-19T10:03:52.722139Z"
    }
   },
   "outputs": [
    {
     "data": {
      "text/plain": [
       "0    priyadarshini college of engineering, nagpur \n",
       "Name: College_Name, dtype: object"
      ]
     },
     "execution_count": 12,
     "metadata": {},
     "output_type": "execute_result"
    }
   ],
   "source": [
    "# check mode() of College_name column\n",
    "df['College_Name'].mode()"
   ]
  },
  {
   "cell_type": "code",
   "execution_count": 13,
   "id": "fd2cacd1",
   "metadata": {
    "ExecuteTime": {
     "end_time": "2023-09-19T10:03:52.749290Z",
     "start_time": "2023-09-19T10:03:52.738083Z"
    }
   },
   "outputs": [],
   "source": [
    "# replace the null values with mode.\n",
    "df['College_Name'].fillna(df['College_Name'].mode()[0], inplace=True)"
   ]
  },
  {
   "cell_type": "code",
   "execution_count": 14,
   "id": "1a4cf175",
   "metadata": {
    "ExecuteTime": {
     "end_time": "2023-09-19T10:03:52.770977Z",
     "start_time": "2023-09-19T10:03:52.752267Z"
    }
   },
   "outputs": [
    {
     "data": {
      "text/plain": [
       "0"
      ]
     },
     "execution_count": 14,
     "metadata": {},
     "output_type": "execute_result"
    }
   ],
   "source": [
    "# 0 dulicates value\n",
    "df.duplicated().sum()"
   ]
  },
  {
   "cell_type": "code",
   "execution_count": 15,
   "id": "3e3f9db3",
   "metadata": {
    "ExecuteTime": {
     "end_time": "2023-09-19T10:03:52.793644Z",
     "start_time": "2023-09-19T10:03:52.773075Z"
    }
   },
   "outputs": [
    {
     "data": {
      "text/plain": [
       "First_Name             0\n",
       "Email_ID               0\n",
       "Quantity               0\n",
       "Events                 0\n",
       "Attendee_Status        0\n",
       "College_Name           0\n",
       "Designation            0\n",
       "Graduation_year        0\n",
       "City                   0\n",
       "CGPA                   0\n",
       "Month_of_exp_python    0\n",
       "Family_Income          0\n",
       "Expected_salary_lac    0\n",
       "Leadership_skills      0\n",
       "dtype: int64"
      ]
     },
     "execution_count": 15,
     "metadata": {},
     "output_type": "execute_result"
    }
   ],
   "source": [
    "# there is no null values remain\n",
    "df.isnull().sum().sort_values(ascending=False)"
   ]
  },
  {
   "cell_type": "markdown",
   "id": "583e49f2",
   "metadata": {},
   "source": [
    "## Data Analysis"
   ]
  },
  {
   "cell_type": "markdown",
   "id": "cc5263ce",
   "metadata": {},
   "source": [
    "## Basic Questions:"
   ]
  },
  {
   "cell_type": "markdown",
   "id": "db399298",
   "metadata": {},
   "source": [
    "\n",
    "### 1)\tHow many unique students are included in the dataset?"
   ]
  },
  {
   "cell_type": "code",
   "execution_count": 16,
   "id": "d23f8558",
   "metadata": {
    "ExecuteTime": {
     "end_time": "2023-09-19T10:03:52.823487Z",
     "start_time": "2023-09-19T10:03:52.803087Z"
    }
   },
   "outputs": [
    {
     "data": {
      "text/plain": [
       "(4894, 14)"
      ]
     },
     "execution_count": 16,
     "metadata": {},
     "output_type": "execute_result"
    }
   ],
   "source": [
    "df.shape"
   ]
  },
  {
   "cell_type": "code",
   "execution_count": 17,
   "id": "1f0390c7",
   "metadata": {
    "ExecuteTime": {
     "end_time": "2023-09-19T10:03:52.838670Z",
     "start_time": "2023-09-19T10:03:52.823487Z"
    },
    "scrolled": true
   },
   "outputs": [
    {
     "data": {
      "text/plain": [
       "2324"
      ]
     },
     "execution_count": 17,
     "metadata": {},
     "output_type": "execute_result"
    }
   ],
   "source": [
    "no_of_uni_stud = len(df['First_Name'].unique())\n",
    "no_of_uni_stud"
   ]
  },
  {
   "cell_type": "markdown",
   "id": "59aa1875",
   "metadata": {},
   "source": [
    "#### CONCLUSION: \n",
    "2324 unique students included in the dataset.there are same name of students present."
   ]
  },
  {
   "cell_type": "markdown",
   "id": "34f70d87",
   "metadata": {},
   "source": [
    "### 2) What is the average GPA of the students?\n"
   ]
  },
  {
   "cell_type": "code",
   "execution_count": 18,
   "id": "15d56539",
   "metadata": {
    "ExecuteTime": {
     "end_time": "2023-09-19T10:03:52.853014Z",
     "start_time": "2023-09-19T10:03:52.840642Z"
    }
   },
   "outputs": [
    {
     "data": {
      "text/plain": [
       "8.038475684511619"
      ]
     },
     "execution_count": 18,
     "metadata": {},
     "output_type": "execute_result"
    }
   ],
   "source": [
    "avg_gpa = sum(df['CGPA']) / len(df['CGPA'])\n",
    "avg_gpa"
   ]
  },
  {
   "cell_type": "code",
   "execution_count": 19,
   "id": "a174e5e4",
   "metadata": {
    "ExecuteTime": {
     "end_time": "2023-09-19T10:03:52.868637Z",
     "start_time": "2023-09-19T10:03:52.857303Z"
    }
   },
   "outputs": [
    {
     "data": {
      "text/plain": [
       "8.038475684511647"
      ]
     },
     "execution_count": 19,
     "metadata": {},
     "output_type": "execute_result"
    }
   ],
   "source": [
    "df['CGPA'].mean()"
   ]
  },
  {
   "cell_type": "markdown",
   "id": "2dfc9e1a",
   "metadata": {},
   "source": [
    "#### CONCLUSION: \n",
    "The average GPA of the students is 8.038475684511647."
   ]
  },
  {
   "cell_type": "markdown",
   "id": "b1242128",
   "metadata": {},
   "source": [
    "### 3) What is the distribution of students across different graduation years?"
   ]
  },
  {
   "cell_type": "code",
   "execution_count": 20,
   "id": "cb920d9c",
   "metadata": {
    "ExecuteTime": {
     "end_time": "2023-09-19T10:03:52.894666Z",
     "start_time": "2023-09-19T10:03:52.870913Z"
    }
   },
   "outputs": [
    {
     "data": {
      "text/html": [
       "<div>\n",
       "<style scoped>\n",
       "    .dataframe tbody tr th:only-of-type {\n",
       "        vertical-align: middle;\n",
       "    }\n",
       "\n",
       "    .dataframe tbody tr th {\n",
       "        vertical-align: top;\n",
       "    }\n",
       "\n",
       "    .dataframe thead th {\n",
       "        text-align: right;\n",
       "    }\n",
       "</style>\n",
       "<table border=\"1\" class=\"dataframe\">\n",
       "  <thead>\n",
       "    <tr style=\"text-align: right;\">\n",
       "      <th></th>\n",
       "      <th>Graduation_year</th>\n",
       "    </tr>\n",
       "  </thead>\n",
       "  <tbody>\n",
       "    <tr>\n",
       "      <th>2023</th>\n",
       "      <td>1536</td>\n",
       "    </tr>\n",
       "    <tr>\n",
       "      <th>2024</th>\n",
       "      <td>1511</td>\n",
       "    </tr>\n",
       "    <tr>\n",
       "      <th>2025</th>\n",
       "      <td>1292</td>\n",
       "    </tr>\n",
       "    <tr>\n",
       "      <th>2026</th>\n",
       "      <td>555</td>\n",
       "    </tr>\n",
       "  </tbody>\n",
       "</table>\n",
       "</div>"
      ],
      "text/plain": [
       "      Graduation_year\n",
       "2023             1536\n",
       "2024             1511\n",
       "2025             1292\n",
       "2026              555"
      ]
     },
     "execution_count": 20,
     "metadata": {},
     "output_type": "execute_result"
    }
   ],
   "source": [
    "# create data frame which contain count of graduation_year \n",
    "year_dist = df['Graduation_year'].value_counts().sort_index()\n",
    "df_2=pd.DataFrame(year_dist)\n",
    "df_2"
   ]
  },
  {
   "cell_type": "code",
   "execution_count": 21,
   "id": "f2422be5",
   "metadata": {
    "ExecuteTime": {
     "end_time": "2023-09-19T10:03:52.910520Z",
     "start_time": "2023-09-19T10:03:52.896662Z"
    }
   },
   "outputs": [
    {
     "data": {
      "text/html": [
       "<div>\n",
       "<style scoped>\n",
       "    .dataframe tbody tr th:only-of-type {\n",
       "        vertical-align: middle;\n",
       "    }\n",
       "\n",
       "    .dataframe tbody tr th {\n",
       "        vertical-align: top;\n",
       "    }\n",
       "\n",
       "    .dataframe thead th {\n",
       "        text-align: right;\n",
       "    }\n",
       "</style>\n",
       "<table border=\"1\" class=\"dataframe\">\n",
       "  <thead>\n",
       "    <tr style=\"text-align: right;\">\n",
       "      <th></th>\n",
       "      <th>student_passed_out</th>\n",
       "    </tr>\n",
       "  </thead>\n",
       "  <tbody>\n",
       "    <tr>\n",
       "      <th>2023</th>\n",
       "      <td>1536</td>\n",
       "    </tr>\n",
       "    <tr>\n",
       "      <th>2024</th>\n",
       "      <td>1511</td>\n",
       "    </tr>\n",
       "    <tr>\n",
       "      <th>2025</th>\n",
       "      <td>1292</td>\n",
       "    </tr>\n",
       "    <tr>\n",
       "      <th>2026</th>\n",
       "      <td>555</td>\n",
       "    </tr>\n",
       "  </tbody>\n",
       "</table>\n",
       "</div>"
      ],
      "text/plain": [
       "      student_passed_out\n",
       "2023                1536\n",
       "2024                1511\n",
       "2025                1292\n",
       "2026                 555"
      ]
     },
     "execution_count": 21,
     "metadata": {},
     "output_type": "execute_result"
    }
   ],
   "source": [
    "new_name={'Graduation_year':'student_passed_out'}\n",
    "df_2.rename(columns=new_name, inplace=True)\n",
    "df_2"
   ]
  },
  {
   "cell_type": "code",
   "execution_count": 22,
   "id": "bb161a9d",
   "metadata": {
    "ExecuteTime": {
     "end_time": "2023-09-19T10:03:53.200231Z",
     "start_time": "2023-09-19T10:03:52.913053Z"
    }
   },
   "outputs": [
    {
     "data": {
      "text/plain": [
       "Text(0.5, 1.0, 'Distribution of passout Student')"
      ]
     },
     "execution_count": 22,
     "metadata": {},
     "output_type": "execute_result"
    },
    {
     "data": {
      "image/png": "[encoded data removed]",
      "text/plain": [
       "<Figure size 640x480 with 1 Axes>"
      ]
     },
     "metadata": {},
     "output_type": "display_data"
    }
   ],
   "source": [
    "# Visualization \n",
    "sns.barplot(x=df_2.index, y=df_2['student_passed_out'])\n",
    "plt.xlabel('Year_of_passing')\n",
    "plt.title('Distribution of passout Student')\n"
   ]
  },
  {
   "cell_type": "markdown",
   "id": "b89acf2c",
   "metadata": {},
   "source": [
    "#### CONCLUSION: \n",
    "Most of students are passout in 2023-2024 year."
   ]
  },
  {
   "cell_type": "markdown",
   "id": "3961cf0b",
   "metadata": {},
   "source": [
    "### 4) What is the distribution of student’s experience with Python programming?"
   ]
  },
  {
   "cell_type": "code",
   "execution_count": 23,
   "id": "5e74fee0",
   "metadata": {
    "ExecuteTime": {
     "end_time": "2023-09-19T10:03:53.215700Z",
     "start_time": "2023-09-19T10:03:53.203181Z"
    }
   },
   "outputs": [
    {
     "data": {
      "text/plain": [
       "3    1008\n",
       "4     466\n",
       "5    1242\n",
       "6     738\n",
       "7     640\n",
       "8     800\n",
       "Name: Month_of_exp_python, dtype: int64"
      ]
     },
     "execution_count": 23,
     "metadata": {},
     "output_type": "execute_result"
    }
   ],
   "source": [
    "exp_dist = df['Month_of_exp_python'].value_counts().sort_index()\n",
    "exp_dist"
   ]
  },
  {
   "cell_type": "code",
   "execution_count": 24,
   "id": "0171b4f4",
   "metadata": {
    "ExecuteTime": {
     "end_time": "2023-09-19T10:03:53.237662Z",
     "start_time": "2023-09-19T10:03:53.217647Z"
    }
   },
   "outputs": [
    {
     "data": {
      "text/html": [
       "<div>\n",
       "<style scoped>\n",
       "    .dataframe tbody tr th:only-of-type {\n",
       "        vertical-align: middle;\n",
       "    }\n",
       "\n",
       "    .dataframe tbody tr th {\n",
       "        vertical-align: top;\n",
       "    }\n",
       "\n",
       "    .dataframe thead th {\n",
       "        text-align: right;\n",
       "    }\n",
       "</style>\n",
       "<table border=\"1\" class=\"dataframe\">\n",
       "  <thead>\n",
       "    <tr style=\"text-align: right;\">\n",
       "      <th></th>\n",
       "      <th>Month_of_exp_python</th>\n",
       "    </tr>\n",
       "  </thead>\n",
       "  <tbody>\n",
       "    <tr>\n",
       "      <th>3</th>\n",
       "      <td>1008</td>\n",
       "    </tr>\n",
       "    <tr>\n",
       "      <th>4</th>\n",
       "      <td>466</td>\n",
       "    </tr>\n",
       "    <tr>\n",
       "      <th>5</th>\n",
       "      <td>1242</td>\n",
       "    </tr>\n",
       "    <tr>\n",
       "      <th>6</th>\n",
       "      <td>738</td>\n",
       "    </tr>\n",
       "    <tr>\n",
       "      <th>7</th>\n",
       "      <td>640</td>\n",
       "    </tr>\n",
       "    <tr>\n",
       "      <th>8</th>\n",
       "      <td>800</td>\n",
       "    </tr>\n",
       "  </tbody>\n",
       "</table>\n",
       "</div>"
      ],
      "text/plain": [
       "   Month_of_exp_python\n",
       "3                 1008\n",
       "4                  466\n",
       "5                 1242\n",
       "6                  738\n",
       "7                  640\n",
       "8                  800"
      ]
     },
     "execution_count": 24,
     "metadata": {},
     "output_type": "execute_result"
    }
   ],
   "source": [
    "df_3 = pd.DataFrame(exp_dist)\n",
    "df_3"
   ]
  },
  {
   "cell_type": "code",
   "execution_count": 25,
   "id": "e5a9349d",
   "metadata": {
    "ExecuteTime": {
     "end_time": "2023-09-19T10:03:53.426329Z",
     "start_time": "2023-09-19T10:03:53.240659Z"
    }
   },
   "outputs": [
    {
     "data": {
      "image/png": "[encoded data removed]",
      "text/plain": [
       "<Figure size 640x480 with 1 Axes>"
      ]
     },
     "metadata": {},
     "output_type": "display_data"
    }
   ],
   "source": [
    "# Visualization\n",
    "sns.barplot(x=df_3.index, y=df_3['Month_of_exp_python'])\n",
    "plt.xlabel('Month')\n",
    "plt.ylabel('Experience')\n",
    "plt.title('Distribution of Student Experience')\n",
    "plt.show()"
   ]
  },
  {
   "cell_type": "markdown",
   "id": "3c283355",
   "metadata": {},
   "source": [
    "#### CONCLUSION: \n",
    "There is only 800 student have 8 years of experience, and most of student has experience of 3-5 years."
   ]
  },
  {
   "cell_type": "markdown",
   "id": "1ea12f19",
   "metadata": {},
   "source": [
    "### 5) What is the average family income of the student?"
   ]
  },
  {
   "cell_type": "code",
   "execution_count": 26,
   "id": "8842393c",
   "metadata": {
    "ExecuteTime": {
     "end_time": "2023-09-19T10:03:53.446699Z",
     "start_time": "2023-09-19T10:03:53.429317Z"
    }
   },
   "outputs": [
    {
     "data": {
      "text/plain": [
       "0    0-2 Lakh\n",
       "Name: Family_Income, dtype: object"
      ]
     },
     "execution_count": 26,
     "metadata": {},
     "output_type": "execute_result"
    }
   ],
   "source": [
    "df['Family_Income'].mode()"
   ]
  },
  {
   "cell_type": "code",
   "execution_count": 27,
   "id": "4702e2fe",
   "metadata": {
    "ExecuteTime": {
     "end_time": "2023-09-19T10:03:53.476735Z",
     "start_time": "2023-09-19T10:03:53.453694Z"
    }
   },
   "outputs": [],
   "source": [
    "df['Extracted'] = df['Family_Income'].str.split(' ').str[0]"
   ]
  },
  {
   "cell_type": "code",
   "execution_count": 28,
   "id": "fb31ff6a",
   "metadata": {
    "ExecuteTime": {
     "end_time": "2023-09-19T10:03:53.505344Z",
     "start_time": "2023-09-19T10:03:53.479998Z"
    }
   },
   "outputs": [
    {
     "data": {
      "text/plain": [
       "0         7\n",
       "1       0-2\n",
       "2       5-7\n",
       "3       2-5\n",
       "4       0-2\n",
       "       ... \n",
       "4889    0-2\n",
       "4890    0-2\n",
       "4891    0-2\n",
       "4892    0-2\n",
       "4893    0-2\n",
       "Name: Extracted, Length: 4894, dtype: object"
      ]
     },
     "execution_count": 28,
     "metadata": {},
     "output_type": "execute_result"
    }
   ],
   "source": [
    "df['Extracted']"
   ]
  },
  {
   "cell_type": "code",
   "execution_count": 29,
   "id": "ac623292",
   "metadata": {
    "ExecuteTime": {
     "end_time": "2023-09-19T10:03:53.536559Z",
     "start_time": "2023-09-19T10:03:53.507831Z"
    }
   },
   "outputs": [],
   "source": [
    "df['Family_Income'] = pd.to_numeric(df['Family_Income'], errors='coerce').astype('Int64')"
   ]
  },
  {
   "cell_type": "code",
   "execution_count": 30,
   "id": "b2cd06ce",
   "metadata": {
    "ExecuteTime": {
     "end_time": "2023-09-19T10:03:53.552217Z",
     "start_time": "2023-09-19T10:03:53.539630Z"
    }
   },
   "outputs": [],
   "source": [
    "df['Family_Income']=df['Extracted']"
   ]
  },
  {
   "cell_type": "code",
   "execution_count": 31,
   "id": "2fa6d769",
   "metadata": {
    "ExecuteTime": {
     "end_time": "2023-09-19T10:03:53.570976Z",
     "start_time": "2023-09-19T10:03:53.554258Z"
    }
   },
   "outputs": [
    {
     "data": {
      "text/html": [
       "<div>\n",
       "<style scoped>\n",
       "    .dataframe tbody tr th:only-of-type {\n",
       "        vertical-align: middle;\n",
       "    }\n",
       "\n",
       "    .dataframe tbody tr th {\n",
       "        vertical-align: top;\n",
       "    }\n",
       "\n",
       "    .dataframe thead th {\n",
       "        text-align: right;\n",
       "    }\n",
       "</style>\n",
       "<table border=\"1\" class=\"dataframe\">\n",
       "  <thead>\n",
       "    <tr style=\"text-align: right;\">\n",
       "      <th></th>\n",
       "      <th>First_Name</th>\n",
       "      <th>Email_ID</th>\n",
       "      <th>Quantity</th>\n",
       "      <th>Events</th>\n",
       "      <th>Attendee_Status</th>\n",
       "      <th>College_Name</th>\n",
       "      <th>Designation</th>\n",
       "      <th>Graduation_year</th>\n",
       "      <th>City</th>\n",
       "      <th>CGPA</th>\n",
       "      <th>Month_of_exp_python</th>\n",
       "      <th>Family_Income</th>\n",
       "      <th>Expected_salary_lac</th>\n",
       "      <th>Leadership_skills</th>\n",
       "      <th>Extracted</th>\n",
       "    </tr>\n",
       "  </thead>\n",
       "  <tbody>\n",
       "    <tr>\n",
       "      <th>0</th>\n",
       "      <td>ANIKET</td>\n",
       "      <td>aniket@xyz.com</td>\n",
       "      <td>1</td>\n",
       "      <td>Art of Resume Building</td>\n",
       "      <td>Attending</td>\n",
       "      <td>D Y PATIL INSTITUTE OF MCA AND MANAGEMENT AKUR...</td>\n",
       "      <td>Students</td>\n",
       "      <td>2024</td>\n",
       "      <td>Patna</td>\n",
       "      <td>6.7</td>\n",
       "      <td>7</td>\n",
       "      <td>7</td>\n",
       "      <td>6</td>\n",
       "      <td>yes</td>\n",
       "      <td>7</td>\n",
       "    </tr>\n",
       "    <tr>\n",
       "      <th>1</th>\n",
       "      <td>Dhanshree</td>\n",
       "      <td>dhanshree@xyz.com</td>\n",
       "      <td>1</td>\n",
       "      <td>Art of Resume Building</td>\n",
       "      <td>Attending</td>\n",
       "      <td>AP SHAH INSTITUTE OF TECHNOLOGY</td>\n",
       "      <td>Students</td>\n",
       "      <td>2024</td>\n",
       "      <td>Amravati</td>\n",
       "      <td>8.2</td>\n",
       "      <td>3</td>\n",
       "      <td>0-2</td>\n",
       "      <td>7</td>\n",
       "      <td>no</td>\n",
       "      <td>0-2</td>\n",
       "    </tr>\n",
       "    <tr>\n",
       "      <th>2</th>\n",
       "      <td>Dhiraj</td>\n",
       "      <td>dhiraj@xyz.com</td>\n",
       "      <td>1</td>\n",
       "      <td>Art of Resume Building</td>\n",
       "      <td>Attending</td>\n",
       "      <td>Don Bosco College of Engineering Fatorda Goa</td>\n",
       "      <td>Students</td>\n",
       "      <td>2023</td>\n",
       "      <td>Kunrool</td>\n",
       "      <td>6.5</td>\n",
       "      <td>4</td>\n",
       "      <td>5-7</td>\n",
       "      <td>7</td>\n",
       "      <td>no</td>\n",
       "      <td>5-7</td>\n",
       "    </tr>\n",
       "    <tr>\n",
       "      <th>3</th>\n",
       "      <td>Pooja</td>\n",
       "      <td>pooja@xyz.com</td>\n",
       "      <td>1</td>\n",
       "      <td>Art of Resume Building</td>\n",
       "      <td>Attending</td>\n",
       "      <td>Pillai College of Engineering New Panvel</td>\n",
       "      <td>Students</td>\n",
       "      <td>2025</td>\n",
       "      <td>Tirupati</td>\n",
       "      <td>8.7</td>\n",
       "      <td>7</td>\n",
       "      <td>2-5</td>\n",
       "      <td>8</td>\n",
       "      <td>no</td>\n",
       "      <td>2-5</td>\n",
       "    </tr>\n",
       "    <tr>\n",
       "      <th>4</th>\n",
       "      <td>Aayush</td>\n",
       "      <td>aayush@xyz.com</td>\n",
       "      <td>1</td>\n",
       "      <td>Art of Resume Building</td>\n",
       "      <td>Attending</td>\n",
       "      <td>St Xavier's College</td>\n",
       "      <td>Students</td>\n",
       "      <td>2024</td>\n",
       "      <td>Vijaywada</td>\n",
       "      <td>9.1</td>\n",
       "      <td>3</td>\n",
       "      <td>0-2</td>\n",
       "      <td>10</td>\n",
       "      <td>yes</td>\n",
       "      <td>0-2</td>\n",
       "    </tr>\n",
       "  </tbody>\n",
       "</table>\n",
       "</div>"
      ],
      "text/plain": [
       "  First_Name           Email_ID  Quantity                  Events  \\\n",
       "0     ANIKET     aniket@xyz.com         1  Art of Resume Building   \n",
       "1  Dhanshree  dhanshree@xyz.com         1  Art of Resume Building   \n",
       "2     Dhiraj     dhiraj@xyz.com         1  Art of Resume Building   \n",
       "3      Pooja      pooja@xyz.com         1  Art of Resume Building   \n",
       "4     Aayush     aayush@xyz.com         1  Art of Resume Building   \n",
       "\n",
       "  Attendee_Status                                       College_Name  \\\n",
       "0       Attending  D Y PATIL INSTITUTE OF MCA AND MANAGEMENT AKUR...   \n",
       "1       Attending                   AP SHAH INSTITUTE OF TECHNOLOGY    \n",
       "2       Attending       Don Bosco College of Engineering Fatorda Goa   \n",
       "3       Attending           Pillai College of Engineering New Panvel   \n",
       "4       Attending                               St Xavier's College    \n",
       "\n",
       "  Designation  Graduation_year       City  CGPA  Month_of_exp_python  \\\n",
       "0    Students             2024      Patna   6.7                    7   \n",
       "1    Students             2024   Amravati   8.2                    3   \n",
       "2    Students             2023    Kunrool   6.5                    4   \n",
       "3    Students             2025   Tirupati   8.7                    7   \n",
       "4    Students             2024  Vijaywada   9.1                    3   \n",
       "\n",
       "  Family_Income  Expected_salary_lac Leadership_skills Extracted  \n",
       "0             7                    6               yes         7  \n",
       "1           0-2                    7                no       0-2  \n",
       "2           5-7                    7                no       5-7  \n",
       "3           2-5                    8                no       2-5  \n",
       "4           0-2                   10               yes       0-2  "
      ]
     },
     "execution_count": 31,
     "metadata": {},
     "output_type": "execute_result"
    }
   ],
   "source": [
    "df.head()"
   ]
  },
  {
   "cell_type": "code",
   "execution_count": 32,
   "id": "7424b8b2",
   "metadata": {
    "ExecuteTime": {
     "end_time": "2023-09-19T10:03:53.605365Z",
     "start_time": "2023-09-19T10:03:53.574019Z"
    }
   },
   "outputs": [
    {
     "name": "stdout",
     "output_type": "stream",
     "text": [
      "<class 'pandas.core.frame.DataFrame'>\n",
      "RangeIndex: 4894 entries, 0 to 4893\n",
      "Data columns (total 15 columns):\n",
      " #   Column               Non-Null Count  Dtype  \n",
      "---  ------               --------------  -----  \n",
      " 0   First_Name           4894 non-null   object \n",
      " 1   Email_ID             4894 non-null   object \n",
      " 2   Quantity             4894 non-null   int64  \n",
      " 3   Events               4894 non-null   object \n",
      " 4   Attendee_Status      4894 non-null   object \n",
      " 5   College_Name         4894 non-null   object \n",
      " 6   Designation          4894 non-null   object \n",
      " 7   Graduation_year      4894 non-null   int64  \n",
      " 8   City                 4894 non-null   object \n",
      " 9   CGPA                 4894 non-null   float64\n",
      " 10  Month_of_exp_python  4894 non-null   int64  \n",
      " 11  Family_Income        4894 non-null   object \n",
      " 12  Expected_salary_lac  4894 non-null   int64  \n",
      " 13  Leadership_skills    4894 non-null   object \n",
      " 14  Extracted            4894 non-null   object \n",
      "dtypes: float64(1), int64(4), object(10)\n",
      "memory usage: 573.6+ KB\n"
     ]
    }
   ],
   "source": [
    "df.info()"
   ]
  },
  {
   "cell_type": "code",
   "execution_count": 33,
   "id": "6070c565",
   "metadata": {
    "ExecuteTime": {
     "end_time": "2023-09-19T10:03:53.636808Z",
     "start_time": "2023-09-19T10:03:53.608862Z"
    }
   },
   "outputs": [
    {
     "data": {
      "text/plain": [
       "0       7\n",
       "1       0\n",
       "2       5\n",
       "3       2\n",
       "4       0\n",
       "       ..\n",
       "4889    0\n",
       "4890    0\n",
       "4891    0\n",
       "4892    0\n",
       "4893    0\n",
       "Name: Family_in_1, Length: 4894, dtype: object"
      ]
     },
     "execution_count": 33,
     "metadata": {},
     "output_type": "execute_result"
    }
   ],
   "source": [
    "df['Family_in_1'] = df['Family_Income'].str.split('').str[1]\n",
    "df['Family_in_1']"
   ]
  },
  {
   "cell_type": "code",
   "execution_count": 34,
   "id": "48771cf2",
   "metadata": {
    "ExecuteTime": {
     "end_time": "2023-09-19T10:03:53.671442Z",
     "start_time": "2023-09-19T10:03:53.640567Z"
    }
   },
   "outputs": [
    {
     "data": {
      "text/plain": [
       "0       NaN\n",
       "1         2\n",
       "2         7\n",
       "3         5\n",
       "4         2\n",
       "       ... \n",
       "4889      2\n",
       "4890      2\n",
       "4891      2\n",
       "4892      2\n",
       "4893      2\n",
       "Name: Family_in_2, Length: 4894, dtype: object"
      ]
     },
     "execution_count": 34,
     "metadata": {},
     "output_type": "execute_result"
    }
   ],
   "source": [
    "df['Family_in_2'] = df['Family_Income'].str.split('').str[3]\n",
    "df['Family_in_2']"
   ]
  },
  {
   "cell_type": "code",
   "execution_count": 35,
   "id": "64aebbe0",
   "metadata": {
    "ExecuteTime": {
     "end_time": "2023-09-19T10:03:53.703629Z",
     "start_time": "2023-09-19T10:03:53.671442Z"
    }
   },
   "outputs": [],
   "source": [
    "# Convert the \"object\" column to \"int\"\n",
    "df['Family_in_1'] = pd.to_numeric(df['Family_in_1'], errors='coerce').astype('Int64')\n",
    "# Convert the \"object\" column to \"int\"\n",
    "df['Family_in_2'] = pd.to_numeric(df['Family_in_2'], errors='coerce').astype('Int64')"
   ]
  },
  {
   "cell_type": "code",
   "execution_count": 36,
   "id": "0f598859",
   "metadata": {
    "ExecuteTime": {
     "end_time": "2023-09-19T10:03:53.718834Z",
     "start_time": "2023-09-19T10:03:53.706818Z"
    }
   },
   "outputs": [],
   "source": [
    "df['Family_in_2'].fillna(0, inplace=True)"
   ]
  },
  {
   "cell_type": "code",
   "execution_count": 37,
   "id": "4f2dc549",
   "metadata": {
    "ExecuteTime": {
     "end_time": "2023-09-19T10:03:53.734800Z",
     "start_time": "2023-09-19T10:03:53.720847Z"
    }
   },
   "outputs": [
    {
     "data": {
      "text/html": [
       "<div>\n",
       "<style scoped>\n",
       "    .dataframe tbody tr th:only-of-type {\n",
       "        vertical-align: middle;\n",
       "    }\n",
       "\n",
       "    .dataframe tbody tr th {\n",
       "        vertical-align: top;\n",
       "    }\n",
       "\n",
       "    .dataframe thead th {\n",
       "        text-align: right;\n",
       "    }\n",
       "</style>\n",
       "<table border=\"1\" class=\"dataframe\">\n",
       "  <thead>\n",
       "    <tr style=\"text-align: right;\">\n",
       "      <th></th>\n",
       "      <th>Family_in_1</th>\n",
       "      <th>Family_in_2</th>\n",
       "    </tr>\n",
       "  </thead>\n",
       "  <tbody>\n",
       "    <tr>\n",
       "      <th>0</th>\n",
       "      <td>7</td>\n",
       "      <td>0</td>\n",
       "    </tr>\n",
       "    <tr>\n",
       "      <th>1</th>\n",
       "      <td>0</td>\n",
       "      <td>2</td>\n",
       "    </tr>\n",
       "    <tr>\n",
       "      <th>2</th>\n",
       "      <td>5</td>\n",
       "      <td>7</td>\n",
       "    </tr>\n",
       "    <tr>\n",
       "      <th>3</th>\n",
       "      <td>2</td>\n",
       "      <td>5</td>\n",
       "    </tr>\n",
       "    <tr>\n",
       "      <th>4</th>\n",
       "      <td>0</td>\n",
       "      <td>2</td>\n",
       "    </tr>\n",
       "  </tbody>\n",
       "</table>\n",
       "</div>"
      ],
      "text/plain": [
       "   Family_in_1  Family_in_2\n",
       "0            7            0\n",
       "1            0            2\n",
       "2            5            7\n",
       "3            2            5\n",
       "4            0            2"
      ]
     },
     "execution_count": 37,
     "metadata": {},
     "output_type": "execute_result"
    }
   ],
   "source": [
    "selected_col = ['Family_in_1','Family_in_2']\n",
    "\n",
    "subset_FI = df[selected_col]\n",
    "subset_FI.head()"
   ]
  },
  {
   "cell_type": "code",
   "execution_count": 38,
   "id": "0acb809e",
   "metadata": {
    "ExecuteTime": {
     "end_time": "2023-09-19T10:03:53.752655Z",
     "start_time": "2023-09-19T10:03:53.737700Z"
    }
   },
   "outputs": [
    {
     "name": "stdout",
     "output_type": "stream",
     "text": [
      "<class 'pandas.core.frame.DataFrame'>\n",
      "RangeIndex: 4894 entries, 0 to 4893\n",
      "Data columns (total 2 columns):\n",
      " #   Column       Non-Null Count  Dtype\n",
      "---  ------       --------------  -----\n",
      " 0   Family_in_1  4894 non-null   Int64\n",
      " 1   Family_in_2  4894 non-null   Int64\n",
      "dtypes: Int64(2)\n",
      "memory usage: 86.2 KB\n"
     ]
    }
   ],
   "source": [
    "subset_FI.info()"
   ]
  },
  {
   "cell_type": "code",
   "execution_count": 39,
   "id": "7c03ce21",
   "metadata": {
    "ExecuteTime": {
     "end_time": "2023-09-19T10:03:53.770903Z",
     "start_time": "2023-09-19T10:03:53.757383Z"
    }
   },
   "outputs": [
    {
     "data": {
      "text/plain": [
       "0       7.0\n",
       "1       1.0\n",
       "2       8.5\n",
       "3       4.5\n",
       "4       1.0\n",
       "       ... \n",
       "4889    1.0\n",
       "4890    1.0\n",
       "4891    1.0\n",
       "4892    1.0\n",
       "4893    1.0\n",
       "Length: 4894, dtype: Float64"
      ]
     },
     "execution_count": 39,
     "metadata": {},
     "output_type": "execute_result"
    }
   ],
   "source": [
    "# Calculate the average of values from Family_in_1 and Family_in_2\n",
    "avg = (df['Family_in_1'] + df['Family_in_2'] / 2)\n",
    "avg"
   ]
  },
  {
   "cell_type": "code",
   "execution_count": 40,
   "id": "debc7426",
   "metadata": {
    "ExecuteTime": {
     "end_time": "2023-09-19T10:03:53.804310Z",
     "start_time": "2023-09-19T10:03:53.773900Z"
    }
   },
   "outputs": [
    {
     "data": {
      "text/html": [
       "<div>\n",
       "<style scoped>\n",
       "    .dataframe tbody tr th:only-of-type {\n",
       "        vertical-align: middle;\n",
       "    }\n",
       "\n",
       "    .dataframe tbody tr th {\n",
       "        vertical-align: top;\n",
       "    }\n",
       "\n",
       "    .dataframe thead th {\n",
       "        text-align: right;\n",
       "    }\n",
       "</style>\n",
       "<table border=\"1\" class=\"dataframe\">\n",
       "  <thead>\n",
       "    <tr style=\"text-align: right;\">\n",
       "      <th></th>\n",
       "      <th>First_Name</th>\n",
       "      <th>Email_ID</th>\n",
       "      <th>Quantity</th>\n",
       "      <th>Events</th>\n",
       "      <th>Attendee_Status</th>\n",
       "      <th>College_Name</th>\n",
       "      <th>Designation</th>\n",
       "      <th>Graduation_year</th>\n",
       "      <th>City</th>\n",
       "      <th>CGPA</th>\n",
       "      <th>Month_of_exp_python</th>\n",
       "      <th>Expected_salary_lac</th>\n",
       "      <th>Leadership_skills</th>\n",
       "      <th>Extracted</th>\n",
       "      <th>Family_in_1</th>\n",
       "      <th>Family_in_2</th>\n",
       "    </tr>\n",
       "  </thead>\n",
       "  <tbody>\n",
       "    <tr>\n",
       "      <th>0</th>\n",
       "      <td>ANIKET</td>\n",
       "      <td>aniket@xyz.com</td>\n",
       "      <td>1</td>\n",
       "      <td>Art of Resume Building</td>\n",
       "      <td>Attending</td>\n",
       "      <td>D Y PATIL INSTITUTE OF MCA AND MANAGEMENT AKUR...</td>\n",
       "      <td>Students</td>\n",
       "      <td>2024</td>\n",
       "      <td>Patna</td>\n",
       "      <td>6.7</td>\n",
       "      <td>7</td>\n",
       "      <td>6</td>\n",
       "      <td>yes</td>\n",
       "      <td>7</td>\n",
       "      <td>7</td>\n",
       "      <td>0</td>\n",
       "    </tr>\n",
       "    <tr>\n",
       "      <th>1</th>\n",
       "      <td>Dhanshree</td>\n",
       "      <td>dhanshree@xyz.com</td>\n",
       "      <td>1</td>\n",
       "      <td>Art of Resume Building</td>\n",
       "      <td>Attending</td>\n",
       "      <td>AP SHAH INSTITUTE OF TECHNOLOGY</td>\n",
       "      <td>Students</td>\n",
       "      <td>2024</td>\n",
       "      <td>Amravati</td>\n",
       "      <td>8.2</td>\n",
       "      <td>3</td>\n",
       "      <td>7</td>\n",
       "      <td>no</td>\n",
       "      <td>0-2</td>\n",
       "      <td>0</td>\n",
       "      <td>2</td>\n",
       "    </tr>\n",
       "    <tr>\n",
       "      <th>2</th>\n",
       "      <td>Dhiraj</td>\n",
       "      <td>dhiraj@xyz.com</td>\n",
       "      <td>1</td>\n",
       "      <td>Art of Resume Building</td>\n",
       "      <td>Attending</td>\n",
       "      <td>Don Bosco College of Engineering Fatorda Goa</td>\n",
       "      <td>Students</td>\n",
       "      <td>2023</td>\n",
       "      <td>Kunrool</td>\n",
       "      <td>6.5</td>\n",
       "      <td>4</td>\n",
       "      <td>7</td>\n",
       "      <td>no</td>\n",
       "      <td>5-7</td>\n",
       "      <td>5</td>\n",
       "      <td>7</td>\n",
       "    </tr>\n",
       "    <tr>\n",
       "      <th>3</th>\n",
       "      <td>Pooja</td>\n",
       "      <td>pooja@xyz.com</td>\n",
       "      <td>1</td>\n",
       "      <td>Art of Resume Building</td>\n",
       "      <td>Attending</td>\n",
       "      <td>Pillai College of Engineering New Panvel</td>\n",
       "      <td>Students</td>\n",
       "      <td>2025</td>\n",
       "      <td>Tirupati</td>\n",
       "      <td>8.7</td>\n",
       "      <td>7</td>\n",
       "      <td>8</td>\n",
       "      <td>no</td>\n",
       "      <td>2-5</td>\n",
       "      <td>2</td>\n",
       "      <td>5</td>\n",
       "    </tr>\n",
       "    <tr>\n",
       "      <th>4</th>\n",
       "      <td>Aayush</td>\n",
       "      <td>aayush@xyz.com</td>\n",
       "      <td>1</td>\n",
       "      <td>Art of Resume Building</td>\n",
       "      <td>Attending</td>\n",
       "      <td>St Xavier's College</td>\n",
       "      <td>Students</td>\n",
       "      <td>2024</td>\n",
       "      <td>Vijaywada</td>\n",
       "      <td>9.1</td>\n",
       "      <td>3</td>\n",
       "      <td>10</td>\n",
       "      <td>yes</td>\n",
       "      <td>0-2</td>\n",
       "      <td>0</td>\n",
       "      <td>2</td>\n",
       "    </tr>\n",
       "  </tbody>\n",
       "</table>\n",
       "</div>"
      ],
      "text/plain": [
       "  First_Name           Email_ID  Quantity                  Events  \\\n",
       "0     ANIKET     aniket@xyz.com         1  Art of Resume Building   \n",
       "1  Dhanshree  dhanshree@xyz.com         1  Art of Resume Building   \n",
       "2     Dhiraj     dhiraj@xyz.com         1  Art of Resume Building   \n",
       "3      Pooja      pooja@xyz.com         1  Art of Resume Building   \n",
       "4     Aayush     aayush@xyz.com         1  Art of Resume Building   \n",
       "\n",
       "  Attendee_Status                                       College_Name  \\\n",
       "0       Attending  D Y PATIL INSTITUTE OF MCA AND MANAGEMENT AKUR...   \n",
       "1       Attending                   AP SHAH INSTITUTE OF TECHNOLOGY    \n",
       "2       Attending       Don Bosco College of Engineering Fatorda Goa   \n",
       "3       Attending           Pillai College of Engineering New Panvel   \n",
       "4       Attending                               St Xavier's College    \n",
       "\n",
       "  Designation  Graduation_year       City  CGPA  Month_of_exp_python  \\\n",
       "0    Students             2024      Patna   6.7                    7   \n",
       "1    Students             2024   Amravati   8.2                    3   \n",
       "2    Students             2023    Kunrool   6.5                    4   \n",
       "3    Students             2025   Tirupati   8.7                    7   \n",
       "4    Students             2024  Vijaywada   9.1                    3   \n",
       "\n",
       "   Expected_salary_lac Leadership_skills Extracted  Family_in_1  Family_in_2  \n",
       "0                    6               yes         7            7            0  \n",
       "1                    7                no       0-2            0            2  \n",
       "2                    7                no       5-7            5            7  \n",
       "3                    8                no       2-5            2            5  \n",
       "4                   10               yes       0-2            0            2  "
      ]
     },
     "execution_count": 40,
     "metadata": {},
     "output_type": "execute_result"
    }
   ],
   "source": [
    "df.drop(columns=['Family_Income'],inplace=True)\n",
    "df.head()"
   ]
  },
  {
   "cell_type": "code",
   "execution_count": 41,
   "id": "31536f42",
   "metadata": {
    "ExecuteTime": {
     "end_time": "2023-09-19T10:03:53.836803Z",
     "start_time": "2023-09-19T10:03:53.806813Z"
    }
   },
   "outputs": [
    {
     "data": {
      "text/html": [
       "<div>\n",
       "<style scoped>\n",
       "    .dataframe tbody tr th:only-of-type {\n",
       "        vertical-align: middle;\n",
       "    }\n",
       "\n",
       "    .dataframe tbody tr th {\n",
       "        vertical-align: top;\n",
       "    }\n",
       "\n",
       "    .dataframe thead th {\n",
       "        text-align: right;\n",
       "    }\n",
       "</style>\n",
       "<table border=\"1\" class=\"dataframe\">\n",
       "  <thead>\n",
       "    <tr style=\"text-align: right;\">\n",
       "      <th></th>\n",
       "      <th>First_Name</th>\n",
       "      <th>Email_ID</th>\n",
       "      <th>Quantity</th>\n",
       "      <th>Events</th>\n",
       "      <th>Attendee_Status</th>\n",
       "      <th>College_Name</th>\n",
       "      <th>Designation</th>\n",
       "      <th>Graduation_year</th>\n",
       "      <th>City</th>\n",
       "      <th>CGPA</th>\n",
       "      <th>Month_of_exp_python</th>\n",
       "      <th>Expected_salary_lac</th>\n",
       "      <th>Leadership_skills</th>\n",
       "      <th>Extracted</th>\n",
       "      <th>Family_in_1</th>\n",
       "      <th>Family_in_2</th>\n",
       "      <th>FamiLy_Income</th>\n",
       "    </tr>\n",
       "  </thead>\n",
       "  <tbody>\n",
       "    <tr>\n",
       "      <th>0</th>\n",
       "      <td>ANIKET</td>\n",
       "      <td>aniket@xyz.com</td>\n",
       "      <td>1</td>\n",
       "      <td>Art of Resume Building</td>\n",
       "      <td>Attending</td>\n",
       "      <td>D Y PATIL INSTITUTE OF MCA AND MANAGEMENT AKUR...</td>\n",
       "      <td>Students</td>\n",
       "      <td>2024</td>\n",
       "      <td>Patna</td>\n",
       "      <td>6.7</td>\n",
       "      <td>7</td>\n",
       "      <td>6</td>\n",
       "      <td>yes</td>\n",
       "      <td>7</td>\n",
       "      <td>7</td>\n",
       "      <td>0</td>\n",
       "      <td>7.0</td>\n",
       "    </tr>\n",
       "    <tr>\n",
       "      <th>1</th>\n",
       "      <td>Dhanshree</td>\n",
       "      <td>dhanshree@xyz.com</td>\n",
       "      <td>1</td>\n",
       "      <td>Art of Resume Building</td>\n",
       "      <td>Attending</td>\n",
       "      <td>AP SHAH INSTITUTE OF TECHNOLOGY</td>\n",
       "      <td>Students</td>\n",
       "      <td>2024</td>\n",
       "      <td>Amravati</td>\n",
       "      <td>8.2</td>\n",
       "      <td>3</td>\n",
       "      <td>7</td>\n",
       "      <td>no</td>\n",
       "      <td>0-2</td>\n",
       "      <td>0</td>\n",
       "      <td>2</td>\n",
       "      <td>1.0</td>\n",
       "    </tr>\n",
       "    <tr>\n",
       "      <th>2</th>\n",
       "      <td>Dhiraj</td>\n",
       "      <td>dhiraj@xyz.com</td>\n",
       "      <td>1</td>\n",
       "      <td>Art of Resume Building</td>\n",
       "      <td>Attending</td>\n",
       "      <td>Don Bosco College of Engineering Fatorda Goa</td>\n",
       "      <td>Students</td>\n",
       "      <td>2023</td>\n",
       "      <td>Kunrool</td>\n",
       "      <td>6.5</td>\n",
       "      <td>4</td>\n",
       "      <td>7</td>\n",
       "      <td>no</td>\n",
       "      <td>5-7</td>\n",
       "      <td>5</td>\n",
       "      <td>7</td>\n",
       "      <td>8.5</td>\n",
       "    </tr>\n",
       "    <tr>\n",
       "      <th>3</th>\n",
       "      <td>Pooja</td>\n",
       "      <td>pooja@xyz.com</td>\n",
       "      <td>1</td>\n",
       "      <td>Art of Resume Building</td>\n",
       "      <td>Attending</td>\n",
       "      <td>Pillai College of Engineering New Panvel</td>\n",
       "      <td>Students</td>\n",
       "      <td>2025</td>\n",
       "      <td>Tirupati</td>\n",
       "      <td>8.7</td>\n",
       "      <td>7</td>\n",
       "      <td>8</td>\n",
       "      <td>no</td>\n",
       "      <td>2-5</td>\n",
       "      <td>2</td>\n",
       "      <td>5</td>\n",
       "      <td>4.5</td>\n",
       "    </tr>\n",
       "    <tr>\n",
       "      <th>4</th>\n",
       "      <td>Aayush</td>\n",
       "      <td>aayush@xyz.com</td>\n",
       "      <td>1</td>\n",
       "      <td>Art of Resume Building</td>\n",
       "      <td>Attending</td>\n",
       "      <td>St Xavier's College</td>\n",
       "      <td>Students</td>\n",
       "      <td>2024</td>\n",
       "      <td>Vijaywada</td>\n",
       "      <td>9.1</td>\n",
       "      <td>3</td>\n",
       "      <td>10</td>\n",
       "      <td>yes</td>\n",
       "      <td>0-2</td>\n",
       "      <td>0</td>\n",
       "      <td>2</td>\n",
       "      <td>1.0</td>\n",
       "    </tr>\n",
       "  </tbody>\n",
       "</table>\n",
       "</div>"
      ],
      "text/plain": [
       "  First_Name           Email_ID  Quantity                  Events  \\\n",
       "0     ANIKET     aniket@xyz.com         1  Art of Resume Building   \n",
       "1  Dhanshree  dhanshree@xyz.com         1  Art of Resume Building   \n",
       "2     Dhiraj     dhiraj@xyz.com         1  Art of Resume Building   \n",
       "3      Pooja      pooja@xyz.com         1  Art of Resume Building   \n",
       "4     Aayush     aayush@xyz.com         1  Art of Resume Building   \n",
       "\n",
       "  Attendee_Status                                       College_Name  \\\n",
       "0       Attending  D Y PATIL INSTITUTE OF MCA AND MANAGEMENT AKUR...   \n",
       "1       Attending                   AP SHAH INSTITUTE OF TECHNOLOGY    \n",
       "2       Attending       Don Bosco College of Engineering Fatorda Goa   \n",
       "3       Attending           Pillai College of Engineering New Panvel   \n",
       "4       Attending                               St Xavier's College    \n",
       "\n",
       "  Designation  Graduation_year       City  CGPA  Month_of_exp_python  \\\n",
       "0    Students             2024      Patna   6.7                    7   \n",
       "1    Students             2024   Amravati   8.2                    3   \n",
       "2    Students             2023    Kunrool   6.5                    4   \n",
       "3    Students             2025   Tirupati   8.7                    7   \n",
       "4    Students             2024  Vijaywada   9.1                    3   \n",
       "\n",
       "   Expected_salary_lac Leadership_skills Extracted  Family_in_1  Family_in_2  \\\n",
       "0                    6               yes         7            7            0   \n",
       "1                    7                no       0-2            0            2   \n",
       "2                    7                no       5-7            5            7   \n",
       "3                    8                no       2-5            2            5   \n",
       "4                   10               yes       0-2            0            2   \n",
       "\n",
       "   FamiLy_Income  \n",
       "0            7.0  \n",
       "1            1.0  \n",
       "2            8.5  \n",
       "3            4.5  \n",
       "4            1.0  "
      ]
     },
     "execution_count": 41,
     "metadata": {},
     "output_type": "execute_result"
    }
   ],
   "source": [
    "df['FamiLy_Income']=pd.DataFrame(avg)\n",
    "df.head()"
   ]
  },
  {
   "cell_type": "code",
   "execution_count": 42,
   "id": "2f1859c7",
   "metadata": {
    "ExecuteTime": {
     "end_time": "2023-09-19T10:03:53.852698Z",
     "start_time": "2023-09-19T10:03:53.840571Z"
    }
   },
   "outputs": [
    {
     "data": {
      "text/plain": [
       "1.374744585206375"
      ]
     },
     "execution_count": 42,
     "metadata": {},
     "output_type": "execute_result"
    }
   ],
   "source": [
    "df['FamiLy_Income'].mean()"
   ]
  },
  {
   "cell_type": "markdown",
   "id": "0f4e9d58",
   "metadata": {},
   "source": [
    "#### CONCLUSION: \n",
    "Average Family Income is 1.374744585206375."
   ]
  },
  {
   "cell_type": "markdown",
   "id": "2858eec3",
   "metadata": {},
   "source": [
    "### 6) How does the GPA vary among different colleges? (Show top 5 results only)"
   ]
  },
  {
   "cell_type": "code",
   "execution_count": 43,
   "id": "1a932c3b",
   "metadata": {
    "ExecuteTime": {
     "end_time": "2023-09-19T10:03:54.074061Z",
     "start_time": "2023-09-19T10:03:53.854920Z"
    }
   },
   "outputs": [
    {
     "data": {
      "image/png": "[encoded data removed]",
      "text/plain": [
       "<Figure size 1000x600 with 1 Axes>"
      ]
     },
     "metadata": {},
     "output_type": "display_data"
    }
   ],
   "source": [
    "df_4 = df.sort_values(by='CGPA', ascending=False)\n",
    "\n",
    "# Get the top 5 colleges\n",
    "top_5 = df_4.head(5)\n",
    "\n",
    "# Create a bar chart to visualize the top 5 colleges with the highest average GPA\n",
    "plt.figure(figsize=(10, 6))\n",
    "plt.bar(top_5['College_Name'], top_5['CGPA'], color='skyblue')\n",
    "plt.xlabel('College')\n",
    "plt.ylabel('Average GPA')\n",
    "plt.title('Top 5 Colleges with Highest Average GPA')\n",
    "plt.xticks(rotation=45)  # Rotate x-axis labels for better readability\n",
    "\n",
    "plt.show()"
   ]
  },
  {
   "cell_type": "code",
   "execution_count": 44,
   "id": "7d773823",
   "metadata": {
    "ExecuteTime": {
     "end_time": "2023-09-19T10:03:54.098625Z",
     "start_time": "2023-09-19T10:03:54.076222Z"
    }
   },
   "outputs": [
    {
     "name": "stdout",
     "output_type": "stream",
     "text": [
      "College_Name\n",
      "THAKUR INSTITUTE OF MANAGEMENT STUDIES, CAREER DEVELOPMENT & RESEARCH - [TIMSCDR]    8.585714\n",
      "St Xavier's College                                                                  8.578571\n",
      "B. K. Birla College of Arts, Science & Commerce (Autonomous), Kalyan                 8.456410\n",
      "Symbiosis Institute of Technology, Pune                                              8.303448\n",
      "AP SHAH INSTITUTE OF TECHNOLOGY                                                      8.283333\n",
      "Name: CGPA, dtype: float64\n"
     ]
    }
   ],
   "source": [
    "college_gpa = df.groupby('College_Name')['CGPA'].mean()\n",
    "\n",
    "# Sort the results in descending order\n",
    "college_gpa_sorted = college_gpa.sort_values(ascending=False)\n",
    "# Display the top 5 colleges with the highest average GPA\n",
    "top_5_colleges = college_gpa_sorted.head(5)\n",
    "print(top_5_colleges)"
   ]
  },
  {
   "cell_type": "markdown",
   "id": "51b625ef",
   "metadata": {},
   "source": [
    "#### CONCLUSION: \n",
    "* Top 5 colleges by CGPA:\n",
    "> College_Name\n",
    "\n",
    "* THAKUR INSTITUTE OF MANAGEMENT STUDIES, CAREER DEVELOPMENT & RESEARCH - [TIMSCDR]    8.585714\n",
    "\n",
    "* St Xavier's College                                                                  8.578571\n",
    "\n",
    "* B. K. Birla College of Arts, Science & Commerce (Autonomous), Kalyan                 8.456410\n",
    "\n",
    "* Symbiosis Institute of Technology, Pune                                              8.303448\n",
    "\n",
    "* AP SHAH INSTITUTE OF TECHNOLOGY                                                      8.283333"
   ]
  },
  {
   "cell_type": "code",
   "execution_count": 45,
   "id": "81cd8d7d",
   "metadata": {
    "ExecuteTime": {
     "end_time": "2023-09-19T10:03:54.114107Z",
     "start_time": "2023-09-19T10:03:54.100640Z"
    }
   },
   "outputs": [],
   "source": [
    "df.drop(columns=['Extracted', 'Family_in_1', 'Family_in_2'], inplace=True)"
   ]
  },
  {
   "cell_type": "markdown",
   "id": "4b86251a",
   "metadata": {},
   "source": [
    "### 8) What is the average GPA for students from each city?"
   ]
  },
  {
   "cell_type": "code",
   "execution_count": 90,
   "id": "87acf8bc",
   "metadata": {
    "ExecuteTime": {
     "end_time": "2023-09-19T10:59:56.031187Z",
     "start_time": "2023-09-19T10:59:56.014575Z"
    }
   },
   "outputs": [
    {
     "name": "stdout",
     "output_type": "stream",
     "text": [
      "              CGPA\n",
      "City              \n",
      "Kolhapur  8.557143\n",
      "Raipur    8.507143\n",
      "Sonipat   8.464286\n",
      "Gurugram  8.459259\n",
      "Puri      8.450000\n"
     ]
    }
   ],
   "source": [
    "city_gpa = df.groupby('City')['CGPA'].mean()\n",
    "\n",
    "# Sort the results in descending order\n",
    "city_gpa_sorted = city_gpa.sort_values(ascending=False)\n",
    "# Display the top 5 cities with the highest average GPA\n",
    "top_5_city = pd.DataFrame(city_gpa_sorted.head())\n",
    "\n",
    "print(top_5_city)\n"
   ]
  },
  {
   "cell_type": "code",
   "execution_count": 91,
   "id": "6d52b609",
   "metadata": {
    "ExecuteTime": {
     "end_time": "2023-09-19T11:00:00.322242Z",
     "start_time": "2023-09-19T11:00:00.313688Z"
    }
   },
   "outputs": [],
   "source": [
    "top_5_city = top_5_city.reset_index(drop=True)"
   ]
  },
  {
   "cell_type": "code",
   "execution_count": 92,
   "id": "f72519ae",
   "metadata": {
    "ExecuteTime": {
     "end_time": "2023-09-19T11:00:01.477522Z",
     "start_time": "2023-09-19T11:00:01.458179Z"
    }
   },
   "outputs": [
    {
     "data": {
      "text/html": [
       "<div>\n",
       "<style scoped>\n",
       "    .dataframe tbody tr th:only-of-type {\n",
       "        vertical-align: middle;\n",
       "    }\n",
       "\n",
       "    .dataframe tbody tr th {\n",
       "        vertical-align: top;\n",
       "    }\n",
       "\n",
       "    .dataframe thead th {\n",
       "        text-align: right;\n",
       "    }\n",
       "</style>\n",
       "<table border=\"1\" class=\"dataframe\">\n",
       "  <thead>\n",
       "    <tr style=\"text-align: right;\">\n",
       "      <th></th>\n",
       "      <th>CGPA</th>\n",
       "      <th>city</th>\n",
       "    </tr>\n",
       "  </thead>\n",
       "  <tbody>\n",
       "    <tr>\n",
       "      <th>0</th>\n",
       "      <td>8.557143</td>\n",
       "      <td>Kolhapur</td>\n",
       "    </tr>\n",
       "    <tr>\n",
       "      <th>1</th>\n",
       "      <td>8.507143</td>\n",
       "      <td>Raipur</td>\n",
       "    </tr>\n",
       "    <tr>\n",
       "      <th>2</th>\n",
       "      <td>8.464286</td>\n",
       "      <td>Sonipat</td>\n",
       "    </tr>\n",
       "    <tr>\n",
       "      <th>3</th>\n",
       "      <td>8.459259</td>\n",
       "      <td>Gurugram</td>\n",
       "    </tr>\n",
       "    <tr>\n",
       "      <th>4</th>\n",
       "      <td>8.450000</td>\n",
       "      <td>Puri</td>\n",
       "    </tr>\n",
       "  </tbody>\n",
       "</table>\n",
       "</div>"
      ],
      "text/plain": [
       "       CGPA      city\n",
       "0  8.557143  Kolhapur\n",
       "1  8.507143    Raipur\n",
       "2  8.464286   Sonipat\n",
       "3  8.459259  Gurugram\n",
       "4  8.450000      Puri"
      ]
     },
     "execution_count": 92,
     "metadata": {},
     "output_type": "execute_result"
    }
   ],
   "source": [
    "top_5_city['city']=['Kolhapur','Raipur','Sonipat','Gurugram','Puri']\n",
    "top_5_city"
   ]
  },
  {
   "cell_type": "code",
   "execution_count": 93,
   "id": "fd591d47",
   "metadata": {
    "ExecuteTime": {
     "end_time": "2023-09-19T11:00:04.312300Z",
     "start_time": "2023-09-19T11:00:04.063025Z"
    }
   },
   "outputs": [
    {
     "data": {
      "text/plain": [
       "Text(0, 0.5, 'CGPA')"
      ]
     },
     "execution_count": 93,
     "metadata": {},
     "output_type": "execute_result"
    },
    {
     "data": {
      "image/png": "[encoded data removed]",
      "text/plain": [
       "<Figure size 640x480 with 1 Axes>"
      ]
     },
     "metadata": {},
     "output_type": "display_data"
    }
   ],
   "source": [
    "fig = plt.figure()\n",
    "width = 0.35\n",
    "ax = fig.add_axes([1,1,1,1])\n",
    "ax.bar(top_5_city['city'],top_5_city['CGPA'],width)\n",
    "ax.set_xlabel('Names')\n",
    "ax.set_ylabel('CGPA')\n",
    "  "
   ]
  },
  {
   "cell_type": "markdown",
   "id": "0a6b8f35",
   "metadata": {},
   "source": [
    "#### CONCLUSION: \n",
    "Here students of Kolhapur, Raipur, Sonipat, Gurugram and Puri's top 5 cities has CGPA greater than 8. students of that cities they are smart or bright in studies."
   ]
  },
  {
   "cell_type": "markdown",
   "id": "6aa0f411",
   "metadata": {},
   "source": [
    "### 9) Can we identify any relationship between family income and GPA?"
   ]
  },
  {
   "cell_type": "code",
   "execution_count": 94,
   "id": "ac016c74",
   "metadata": {
    "ExecuteTime": {
     "end_time": "2023-09-19T11:03:20.563903Z",
     "start_time": "2023-09-19T11:03:20.235492Z"
    }
   },
   "outputs": [
    {
     "data": {
      "text/plain": [
       "<Axes: xlabel='CGPA', ylabel='FamiLy_Income'>"
      ]
     },
     "execution_count": 94,
     "metadata": {},
     "output_type": "execute_result"
    },
    {
     "data": {
      "image/png": "[encoded data removed]",
      "text/plain": [
       "<Figure size 640x480 with 1 Axes>"
      ]
     },
     "metadata": {},
     "output_type": "display_data"
    }
   ],
   "source": [
    "sns.scatterplot(x=df['CGPA'], y=df['FamiLy_Income'])"
   ]
  },
  {
   "cell_type": "markdown",
   "id": "a4114971",
   "metadata": {},
   "source": [
    "#### CONCLUSION: \n",
    "After observe the graph we can say there is no relation between family income and CGPA. Means students who hasn't strong finance background they also bright in education."
   ]
  },
  {
   "cell_type": "markdown",
   "id": "929e67de",
   "metadata": {
    "ExecuteTime": {
     "end_time": "2023-09-19T10:03:56.229956Z",
     "start_time": "2023-09-19T10:03:56.229956Z"
    }
   },
   "source": [
    "### Moderated Quenstions:"
   ]
  },
  {
   "cell_type": "markdown",
   "id": "086408b5",
   "metadata": {},
   "source": [
    "### 10)\tHow many students from various cities?(Solve using data visualisation tool)."
   ]
  },
  {
   "cell_type": "code",
   "execution_count": 95,
   "id": "f5f1ab71",
   "metadata": {
    "ExecuteTime": {
     "end_time": "2023-09-19T11:07:57.250777Z",
     "start_time": "2023-09-19T11:07:57.220874Z"
    }
   },
   "outputs": [
    {
     "data": {
      "text/plain": [
       "First_Name\n",
       "10 Pawan        1\n",
       "AARAV           4\n",
       "ABA             1\n",
       "ABHINAVKUMAR    1\n",
       "ABHITA          1\n",
       "               ..\n",
       "vraj            2\n",
       "yash            1\n",
       "yugesh          1\n",
       "zeba            1\n",
       "zobia           1\n",
       "Name: City, Length: 2324, dtype: int64"
      ]
     },
     "execution_count": 95,
     "metadata": {},
     "output_type": "execute_result"
    }
   ],
   "source": [
    "stud_city = df.groupby('First_Name')['City'].count()\n",
    "stud_city"
   ]
  },
  {
   "cell_type": "code",
   "execution_count": 105,
   "id": "130f958e",
   "metadata": {
    "ExecuteTime": {
     "end_time": "2023-09-19T11:15:03.167064Z",
     "start_time": "2023-09-19T11:15:02.716451Z"
    }
   },
   "outputs": [
    {
     "data": {
      "image/png": "[encoded data removed]",
      "text/plain": [
       "<Figure size 1500x1000 with 1 Axes>"
      ]
     },
     "metadata": {},
     "output_type": "display_data"
    }
   ],
   "source": [
    "city_counts = df['City'].value_counts().head(20)\n",
    "\n",
    "# Create a countplot to visualize the number of students from the top 5 cities\n",
    "plt.figure(figsize=(15, 10))\n",
    "sns.barplot(x=city_counts.index, y=city_counts.values)\n",
    "plt.xlabel('City')\n",
    "plt.ylabel('Number of Students')\n",
    "plt.title('Top 5 Cities with the Most Students')\n",
    "\n",
    "# Display the countplot\n",
    "plt.xticks(rotation=45)  # Rotate x-axis labels for better readability\n",
    "\n",
    "plt.show()"
   ]
  },
  {
   "cell_type": "markdown",
   "id": "fadd8e7e",
   "metadata": {},
   "source": [
    "#### CONCLUSION: \n",
    "In above Chart we can see more than 45 number of students comes from Chandigarh, siuri, Talmuk and so on city. "
   ]
  },
  {
   "cell_type": "markdown",
   "id": "1d2134bd",
   "metadata": {},
   "source": [
    "### 11)\tHow does the expected salary vary based on factors like 'GPA', 'Family_income',  'Experience with python(month)'?"
   ]
  },
  {
   "cell_type": "code",
   "execution_count": 106,
   "id": "3ea91625",
   "metadata": {
    "ExecuteTime": {
     "end_time": "2023-09-19T11:21:37.894473Z",
     "start_time": "2023-09-19T11:21:37.026680Z"
    }
   },
   "outputs": [
    {
     "data": {
      "text/plain": [
       "Text(0.5, 1.0, 'Expected_salary_lac VS Experience')"
      ]
     },
     "execution_count": 106,
     "metadata": {},
     "output_type": "execute_result"
    },
    {
     "data": {
      "image/png": "[encoded data removed]",
      "text/plain": [
       "<Figure size 800x1500 with 3 Axes>"
      ]
     },
     "metadata": {},
     "output_type": "display_data"
    }
   ],
   "source": [
    "plt.figure(figsize=(8,15))\n",
    "\n",
    "plt.subplot(3,1,1)\n",
    "sns.scatterplot(x=df['CGPA'], y=df['Expected_salary_lac'])\n",
    "plt.title('Expected_salary_lac VS CGPA')\n",
    "\n",
    "plt.subplot(3,1,2)\n",
    "sns.scatterplot(x=df['FamiLy_Income'], y=df['Expected_salary_lac'])\n",
    "plt.title('Expected_salary_lac VS Family_income')\n",
    "\n",
    "plt.subplot(3,1,3)\n",
    "sns.scatterplot(x=df['Month_of_exp_python'], y=df['Expected_salary_lac'])\n",
    "plt.title('Expected_salary_lac VS Experience')"
   ]
  },
  {
   "cell_type": "markdown",
   "id": "03a8a6bd",
   "metadata": {},
   "source": [
    "#### CONCLUSION: \n",
    "* In this graph we can see that it doesn't the expected salary vary based on factors like 'GPA', 'Family_income', 'Experience with python(month)."
   ]
  },
  {
   "cell_type": "markdown",
   "id": "0e4bbcc1",
   "metadata": {},
   "source": [
    "### 12)\tWhich event tend to attract more students from specific fields of study?"
   ]
  },
  {
   "cell_type": "code",
   "execution_count": 107,
   "id": "22fc91be",
   "metadata": {
    "ExecuteTime": {
     "end_time": "2023-09-19T11:28:13.692441Z",
     "start_time": "2023-09-19T11:28:13.680351Z"
    }
   },
   "outputs": [],
   "source": [
    "replace_values = {\n",
    "    'Attending':1,\n",
    "    'NAN':0\n",
    "}\n",
    "\n",
    "df['Attendee_Status']=df['Attendee_Status'].replace(replace_values)\n"
   ]
  },
  {
   "cell_type": "code",
   "execution_count": 108,
   "id": "ccf16465",
   "metadata": {
    "ExecuteTime": {
     "end_time": "2023-09-19T11:28:17.144398Z",
     "start_time": "2023-09-19T11:28:17.113325Z"
    }
   },
   "outputs": [
    {
     "data": {
      "text/plain": [
       "Events                                       Designation\n",
       "Product Design & Full Stack                  Students       841\n",
       "Internship Program(IP) Success Conclave      Students       545\n",
       "Art of Resume Building                       Students       472\n",
       "Data Visualization using Power BI            Students       451\n",
       "Talk on Skill and Employability Enhancement  Students       379\n",
       "Name: Attendee_Status, dtype: int64"
      ]
     },
     "execution_count": 108,
     "metadata": {},
     "output_type": "execute_result"
    }
   ],
   "source": [
    "event_attend = df.groupby(['Events','Designation'])['Attendee_Status'].sum().sort_values(ascending=False).head()\n",
    "event_attend"
   ]
  },
  {
   "cell_type": "markdown",
   "id": "dc9d2a05",
   "metadata": {},
   "source": [
    "#### CONCLUSION: \n",
    "* There are top 5 events tend to attact more students.\n",
    "Events                                       Designation\n",
    "\n",
    "Product Design & Full Stack:                  Students   -    841\n",
    "\n",
    "Internship Program(IP) Success Conclave:      Students   -    545\n",
    "\n",
    "Art of Resume Building:                       Students   -    472\n",
    "\n",
    "Data Visualization using Power BI:            Students   -    451\n",
    "\n",
    "Talk on Skill and Employability Enhancement:  Students    -   379"
   ]
  },
  {
   "cell_type": "markdown",
   "id": "f2deb492",
   "metadata": {},
   "source": [
    "### 13)\tDo students in leadership position during their college years tend to have higher GPAs or better expected salary?"
   ]
  },
  {
   "cell_type": "code",
   "execution_count": 109,
   "id": "d7ab5393",
   "metadata": {
    "ExecuteTime": {
     "end_time": "2023-09-19T11:28:23.066924Z",
     "start_time": "2023-09-19T11:28:23.052335Z"
    }
   },
   "outputs": [],
   "source": [
    "df['Leadership_skills'] = df['Leadership_skills'].replace({'no ':'no'})"
   ]
  },
  {
   "cell_type": "code",
   "execution_count": 110,
   "id": "2aeabe4d",
   "metadata": {
    "ExecuteTime": {
     "end_time": "2023-09-19T11:28:25.113695Z",
     "start_time": "2023-09-19T11:28:25.096520Z"
    }
   },
   "outputs": [
    {
     "data": {
      "text/plain": [
       "array(['yes', 'no'], dtype=object)"
      ]
     },
     "execution_count": 110,
     "metadata": {},
     "output_type": "execute_result"
    }
   ],
   "source": [
    "df['Leadership_skills'].unique()"
   ]
  },
  {
   "cell_type": "code",
   "execution_count": 111,
   "id": "d49f3912",
   "metadata": {
    "ExecuteTime": {
     "end_time": "2023-09-19T11:28:27.833289Z",
     "start_time": "2023-09-19T11:28:27.518191Z"
    }
   },
   "outputs": [
    {
     "data": {
      "text/plain": [
       "Text(0.5, 1.0, 'Distribution of GPAs for Students with and without Leadership Positions')"
      ]
     },
     "execution_count": 111,
     "metadata": {},
     "output_type": "execute_result"
    },
    {
     "data": {
      "image/png": "[encoded data removed]",
      "text/plain": [
       "<Figure size 1000x600 with 1 Axes>"
      ]
     },
     "metadata": {},
     "output_type": "display_data"
    }
   ],
   "source": [
    "# Visualization\n",
    "# Create box plots to visualize the distribution of GPAs\n",
    "plt.figure(figsize=(10, 6))\n",
    "sns.boxplot(x='Leadership_skills', y='CGPA', data=df)\n",
    "plt.xlabel('Leadership Position')\n",
    "plt.ylabel('GPA')\n",
    "plt.title('Distribution of GPAs for Students with and without Leadership Positions')\n"
   ]
  },
  {
   "cell_type": "code",
   "execution_count": 112,
   "id": "f4117844",
   "metadata": {
    "ExecuteTime": {
     "end_time": "2023-09-19T11:28:28.656635Z",
     "start_time": "2023-09-19T11:28:28.640720Z"
    }
   },
   "outputs": [],
   "source": [
    "leadership_students = df[df['Leadership_skills'] == 'yes']\n",
    "non_leadership_students = df[df['Leadership_skills'] == 'no']\n",
    "  "
   ]
  },
  {
   "cell_type": "code",
   "execution_count": 113,
   "id": "f11886ef",
   "metadata": {
    "ExecuteTime": {
     "end_time": "2023-09-19T11:28:29.712092Z",
     "start_time": "2023-09-19T11:28:29.694745Z"
    }
   },
   "outputs": [],
   "source": [
    "from scipy import stats\n",
    "t_statistic, p_value = stats.ttest_ind(leadership_students['CGPA'], non_leadership_students['CGPA'])"
   ]
  },
  {
   "cell_type": "code",
   "execution_count": 114,
   "id": "d057e85b",
   "metadata": {
    "ExecuteTime": {
     "end_time": "2023-09-19T11:28:30.770296Z",
     "start_time": "2023-09-19T11:28:30.750912Z"
    }
   },
   "outputs": [
    {
     "name": "stdout",
     "output_type": "stream",
     "text": [
      "T-Statistic: -0.08\n",
      "P-Value: 0.9338\n"
     ]
    }
   ],
   "source": [
    "# Display t-test results\n",
    "print(f'T-Statistic: {t_statistic:.2f}')\n",
    "print(f'P-Value: {p_value:.4f}')\n"
   ]
  },
  {
   "cell_type": "markdown",
   "id": "86e667c5",
   "metadata": {},
   "source": [
    "#### CONCLUSION: \n",
    "there is no significant, means students in leadership position during their college years is not tend to have higher GPAs or better expected salary."
   ]
  },
  {
   "cell_type": "markdown",
   "id": "11af5bef",
   "metadata": {},
   "source": [
    "### 14) How many students are graduating by the end of 2024?"
   ]
  },
  {
   "cell_type": "code",
   "execution_count": 115,
   "id": "0fbe0201",
   "metadata": {
    "ExecuteTime": {
     "end_time": "2023-09-19T11:28:33.330209Z",
     "start_time": "2023-09-19T11:28:33.313288Z"
    }
   },
   "outputs": [
    {
     "data": {
      "text/plain": [
       "3047"
      ]
     },
     "execution_count": 115,
     "metadata": {},
     "output_type": "execute_result"
    }
   ],
   "source": [
    "graduated_by_2024 = df[df['Graduation_year'] <= 2024]\n",
    "\n",
    "# Get the count of students who graduated by the end of 2024\n",
    "count_students_graduated_by_2024 = len(graduated_by_2024)\n",
    "count_students_graduated_by_2024"
   ]
  },
  {
   "cell_type": "markdown",
   "id": "8a9e7bce",
   "metadata": {},
   "source": [
    "#### CONCLUSION: \n",
    "3047 students are graduating by the end of 2024."
   ]
  },
  {
   "cell_type": "markdown",
   "id": "d808545c",
   "metadata": {},
   "source": [
    "### 15)\tWhich promotion channel brings in more student participations for the event?"
   ]
  },
  {
   "cell_type": "code",
   "execution_count": 116,
   "id": "84448229",
   "metadata": {
    "ExecuteTime": {
     "end_time": "2023-09-19T11:28:39.233188Z",
     "start_time": "2023-09-19T11:28:39.215114Z"
    }
   },
   "outputs": [
    {
     "data": {
      "text/plain": [
       "Events                       Designation\n",
       "Product Design & Full Stack  Students       841\n",
       "Name: Attendee_Status, dtype: int64"
      ]
     },
     "execution_count": 116,
     "metadata": {},
     "output_type": "execute_result"
    }
   ],
   "source": [
    "event_attend = df.groupby(['Events','Designation'])['Attendee_Status'].sum().sort_values(ascending=False).head(1)\n",
    "event_attend"
   ]
  },
  {
   "cell_type": "markdown",
   "id": "cce4e249",
   "metadata": {
    "ExecuteTime": {
     "end_time": "2023-09-06T05:51:59.219562Z",
     "start_time": "2023-09-06T05:51:59.189238Z"
    }
   },
   "source": [
    "#### CONCLUSION: \n",
    "In Product Design & Full Stack event more student participated."
   ]
  },
  {
   "cell_type": "markdown",
   "id": "72373a11",
   "metadata": {},
   "source": [
    "### 16)\tFind the total number of students who attended the events related to data science?(from all data science related course"
   ]
  },
  {
   "cell_type": "code",
   "execution_count": 117,
   "id": "53d71e4f",
   "metadata": {
    "ExecuteTime": {
     "end_time": "2023-09-19T11:28:42.509377Z",
     "start_time": "2023-09-19T11:28:42.482884Z"
    }
   },
   "outputs": [
    {
     "data": {
      "text/plain": [
       "array(['Art of Resume Building', 'Data Visualization using Power BI',\n",
       "       'Artificial Intelligence', 'Hello ML and DL', 'Product Marketing',\n",
       "       'IAC - Q&A', 'Internship Program(IP) Success Conclave',\n",
       "       'IS DATA SCIENCE FOR YOU?', 'KYC - Know Your CCPC',\n",
       "       'Product Design & Full Stack', 'RPA: A Boon or A Bane',\n",
       "       'Skill and Employability Enhancement',\n",
       "       'Talk on Skill and Employability Enhancement',\n",
       "       'The Agile Ways of Working', 'The SDLC & their transformations',\n",
       "       'Transformation with DevOps: The Easy Way'], dtype=object)"
      ]
     },
     "execution_count": 117,
     "metadata": {},
     "output_type": "execute_result"
    }
   ],
   "source": [
    "df['Events'].unique()"
   ]
  },
  {
   "cell_type": "code",
   "execution_count": 118,
   "id": "e7f22115",
   "metadata": {
    "ExecuteTime": {
     "end_time": "2023-09-19T11:28:43.563942Z",
     "start_time": "2023-09-19T11:28:43.531170Z"
    }
   },
   "outputs": [
    {
     "data": {
      "text/html": [
       "<div>\n",
       "<style scoped>\n",
       "    .dataframe tbody tr th:only-of-type {\n",
       "        vertical-align: middle;\n",
       "    }\n",
       "\n",
       "    .dataframe tbody tr th {\n",
       "        vertical-align: top;\n",
       "    }\n",
       "\n",
       "    .dataframe thead th {\n",
       "        text-align: right;\n",
       "    }\n",
       "</style>\n",
       "<table border=\"1\" class=\"dataframe\">\n",
       "  <thead>\n",
       "    <tr style=\"text-align: right;\">\n",
       "      <th></th>\n",
       "      <th>First_Name</th>\n",
       "      <th>Email_ID</th>\n",
       "      <th>Quantity</th>\n",
       "      <th>Events</th>\n",
       "      <th>Attendee_Status</th>\n",
       "      <th>College_Name</th>\n",
       "      <th>Designation</th>\n",
       "      <th>Graduation_year</th>\n",
       "      <th>City</th>\n",
       "      <th>CGPA</th>\n",
       "      <th>Month_of_exp_python</th>\n",
       "      <th>Expected_salary_lac</th>\n",
       "      <th>Leadership_skills</th>\n",
       "      <th>FamiLy_Income</th>\n",
       "    </tr>\n",
       "  </thead>\n",
       "  <tbody>\n",
       "    <tr>\n",
       "      <th>341</th>\n",
       "      <td>Esha</td>\n",
       "      <td>esha@xyz.com</td>\n",
       "      <td>1</td>\n",
       "      <td>Data Visualization using Power BI</td>\n",
       "      <td>1</td>\n",
       "      <td>na</td>\n",
       "      <td>Students</td>\n",
       "      <td>2025</td>\n",
       "      <td>Gorakhpur</td>\n",
       "      <td>6.6</td>\n",
       "      <td>7</td>\n",
       "      <td>25</td>\n",
       "      <td>no</td>\n",
       "      <td>1.0</td>\n",
       "    </tr>\n",
       "    <tr>\n",
       "      <th>342</th>\n",
       "      <td>Akash</td>\n",
       "      <td>akash@xyz.com</td>\n",
       "      <td>1</td>\n",
       "      <td>Data Visualization using Power BI</td>\n",
       "      <td>1</td>\n",
       "      <td>ld college of engineering, ahmedabad, gujarat</td>\n",
       "      <td>Students</td>\n",
       "      <td>2026</td>\n",
       "      <td>Jhansi</td>\n",
       "      <td>7.9</td>\n",
       "      <td>3</td>\n",
       "      <td>8</td>\n",
       "      <td>no</td>\n",
       "      <td>1.0</td>\n",
       "    </tr>\n",
       "    <tr>\n",
       "      <th>343</th>\n",
       "      <td>Shubham</td>\n",
       "      <td>shubham@xyz.com</td>\n",
       "      <td>1</td>\n",
       "      <td>Data Visualization using Power BI</td>\n",
       "      <td>1</td>\n",
       "      <td>dkte society's textile and engineering institu...</td>\n",
       "      <td>Students</td>\n",
       "      <td>2024</td>\n",
       "      <td>Kanpur</td>\n",
       "      <td>7.1</td>\n",
       "      <td>5</td>\n",
       "      <td>19</td>\n",
       "      <td>no</td>\n",
       "      <td>1.0</td>\n",
       "    </tr>\n",
       "    <tr>\n",
       "      <th>344</th>\n",
       "      <td>Aniket</td>\n",
       "      <td>aniket@xyz.com</td>\n",
       "      <td>1</td>\n",
       "      <td>Data Visualization using Power BI</td>\n",
       "      <td>1</td>\n",
       "      <td>lokmanya tilak college of engineering koparkha...</td>\n",
       "      <td>Students</td>\n",
       "      <td>2023</td>\n",
       "      <td>Mathura</td>\n",
       "      <td>7.7</td>\n",
       "      <td>4</td>\n",
       "      <td>17</td>\n",
       "      <td>no</td>\n",
       "      <td>1.0</td>\n",
       "    </tr>\n",
       "    <tr>\n",
       "      <th>345</th>\n",
       "      <td>Sakshi</td>\n",
       "      <td>sakshi@xyz.com</td>\n",
       "      <td>1</td>\n",
       "      <td>Data Visualization using Power BI</td>\n",
       "      <td>1</td>\n",
       "      <td>vidyalankar institute of technology, mumbai</td>\n",
       "      <td>Students</td>\n",
       "      <td>2025</td>\n",
       "      <td>Varanasi</td>\n",
       "      <td>6.5</td>\n",
       "      <td>5</td>\n",
       "      <td>9</td>\n",
       "      <td>no</td>\n",
       "      <td>1.0</td>\n",
       "    </tr>\n",
       "  </tbody>\n",
       "</table>\n",
       "</div>"
      ],
      "text/plain": [
       "    First_Name         Email_ID  Quantity                             Events  \\\n",
       "341       Esha     esha@xyz.com         1  Data Visualization using Power BI   \n",
       "342      Akash    akash@xyz.com         1  Data Visualization using Power BI   \n",
       "343   Shubham   shubham@xyz.com         1  Data Visualization using Power BI   \n",
       "344     Aniket   aniket@xyz.com         1  Data Visualization using Power BI   \n",
       "345     Sakshi   sakshi@xyz.com         1  Data Visualization using Power BI   \n",
       "\n",
       "     Attendee_Status                                       College_Name  \\\n",
       "341                1                                                 na   \n",
       "342                1     ld college of engineering, ahmedabad, gujarat    \n",
       "343                1  dkte society's textile and engineering institu...   \n",
       "344                1  lokmanya tilak college of engineering koparkha...   \n",
       "345                1        vidyalankar institute of technology, mumbai   \n",
       "\n",
       "    Designation  Graduation_year       City  CGPA  Month_of_exp_python  \\\n",
       "341    Students             2025  Gorakhpur   6.6                    7   \n",
       "342    Students             2026     Jhansi   7.9                    3   \n",
       "343    Students             2024     Kanpur   7.1                    5   \n",
       "344    Students             2023    Mathura   7.7                    4   \n",
       "345    Students             2025   Varanasi   6.5                    5   \n",
       "\n",
       "     Expected_salary_lac Leadership_skills  FamiLy_Income  \n",
       "341                   25                no            1.0  \n",
       "342                    8                no            1.0  \n",
       "343                   19                no            1.0  \n",
       "344                   17                no            1.0  \n",
       "345                    9                no            1.0  "
      ]
     },
     "execution_count": 118,
     "metadata": {},
     "output_type": "execute_result"
    }
   ],
   "source": [
    "data_science_events = ['Data Visualization using Power BI',\n",
    "                      'Hello ML and DL',\n",
    "                      'IS DATA SCIENCE FOR YOU?'\n",
    "                      ]\n",
    "\n",
    "ds_events = df[df['Events'].isin(data_science_events)]\n",
    "ds_events.head()"
   ]
  },
  {
   "cell_type": "code",
   "execution_count": 119,
   "id": "c9603737",
   "metadata": {
    "ExecuteTime": {
     "end_time": "2023-09-19T11:28:44.553943Z",
     "start_time": "2023-09-19T11:28:44.536247Z"
    }
   },
   "outputs": [
    {
     "data": {
      "text/html": [
       "<div>\n",
       "<style scoped>\n",
       "    .dataframe tbody tr th:only-of-type {\n",
       "        vertical-align: middle;\n",
       "    }\n",
       "\n",
       "    .dataframe tbody tr th {\n",
       "        vertical-align: top;\n",
       "    }\n",
       "\n",
       "    .dataframe thead th {\n",
       "        text-align: right;\n",
       "    }\n",
       "</style>\n",
       "<table border=\"1\" class=\"dataframe\">\n",
       "  <thead>\n",
       "    <tr style=\"text-align: right;\">\n",
       "      <th></th>\n",
       "      <th>Events</th>\n",
       "      <th>Designation</th>\n",
       "    </tr>\n",
       "  </thead>\n",
       "  <tbody>\n",
       "    <tr>\n",
       "      <th>341</th>\n",
       "      <td>Data Visualization using Power BI</td>\n",
       "      <td>Students</td>\n",
       "    </tr>\n",
       "    <tr>\n",
       "      <th>342</th>\n",
       "      <td>Data Visualization using Power BI</td>\n",
       "      <td>Students</td>\n",
       "    </tr>\n",
       "    <tr>\n",
       "      <th>343</th>\n",
       "      <td>Data Visualization using Power BI</td>\n",
       "      <td>Students</td>\n",
       "    </tr>\n",
       "    <tr>\n",
       "      <th>344</th>\n",
       "      <td>Data Visualization using Power BI</td>\n",
       "      <td>Students</td>\n",
       "    </tr>\n",
       "    <tr>\n",
       "      <th>345</th>\n",
       "      <td>Data Visualization using Power BI</td>\n",
       "      <td>Students</td>\n",
       "    </tr>\n",
       "    <tr>\n",
       "      <th>...</th>\n",
       "      <td>...</td>\n",
       "      <td>...</td>\n",
       "    </tr>\n",
       "    <tr>\n",
       "      <th>4858</th>\n",
       "      <td>Data Visualization using Power BI</td>\n",
       "      <td>Students</td>\n",
       "    </tr>\n",
       "    <tr>\n",
       "      <th>4890</th>\n",
       "      <td>Data Visualization using Power BI</td>\n",
       "      <td>Students</td>\n",
       "    </tr>\n",
       "    <tr>\n",
       "      <th>4891</th>\n",
       "      <td>Data Visualization using Power BI</td>\n",
       "      <td>Students</td>\n",
       "    </tr>\n",
       "    <tr>\n",
       "      <th>4892</th>\n",
       "      <td>Data Visualization using Power BI</td>\n",
       "      <td>Students</td>\n",
       "    </tr>\n",
       "    <tr>\n",
       "      <th>4893</th>\n",
       "      <td>Data Visualization using Power BI</td>\n",
       "      <td>Students</td>\n",
       "    </tr>\n",
       "  </tbody>\n",
       "</table>\n",
       "<p>1023 rows × 2 columns</p>\n",
       "</div>"
      ],
      "text/plain": [
       "                                 Events Designation\n",
       "341   Data Visualization using Power BI    Students\n",
       "342   Data Visualization using Power BI    Students\n",
       "343   Data Visualization using Power BI    Students\n",
       "344   Data Visualization using Power BI    Students\n",
       "345   Data Visualization using Power BI    Students\n",
       "...                                 ...         ...\n",
       "4858  Data Visualization using Power BI    Students\n",
       "4890  Data Visualization using Power BI    Students\n",
       "4891  Data Visualization using Power BI    Students\n",
       "4892  Data Visualization using Power BI    Students\n",
       "4893  Data Visualization using Power BI    Students\n",
       "\n",
       "[1023 rows x 2 columns]"
      ]
     },
     "execution_count": 119,
     "metadata": {},
     "output_type": "execute_result"
    }
   ],
   "source": [
    "event_stud=ds_events.loc[:,['Events','Designation']]\n",
    "event_stud"
   ]
  },
  {
   "cell_type": "code",
   "execution_count": 120,
   "id": "e405408a",
   "metadata": {
    "ExecuteTime": {
     "end_time": "2023-09-19T11:28:45.480053Z",
     "start_time": "2023-09-19T11:28:45.461147Z"
    }
   },
   "outputs": [
    {
     "data": {
      "text/plain": [
       "1020"
      ]
     },
     "execution_count": 120,
     "metadata": {},
     "output_type": "execute_result"
    }
   ],
   "source": [
    "specific_value = 'Students'\n",
    "selected_rows = event_stud.loc[event_stud['Designation'] == specific_value, ['Events', 'Designation']]\n",
    "total_events=selected_rows.groupby(['Events'])['Designation'].value_counts()\n",
    "total_events.sum()"
   ]
  },
  {
   "cell_type": "markdown",
   "id": "a04dbe32",
   "metadata": {
    "ExecuteTime": {
     "end_time": "2023-09-06T05:51:59.219562Z",
     "start_time": "2023-09-06T05:51:59.189238Z"
    }
   },
   "source": [
    "#### CONCLUSION: \n",
    "'Data Visualization using Power BI','Hello ML and DL','IS DATA SCIENCE FOR YOU?' all this events are related to Data Science and total 1020 students attend the events."
   ]
  },
  {
   "cell_type": "markdown",
   "id": "73abdf29",
   "metadata": {},
   "source": [
    "### 17) Those who have high CGPA & More experience in language those who had high expectation for salary?(Avg)"
   ]
  },
  {
   "cell_type": "code",
   "execution_count": 121,
   "id": "420628e5",
   "metadata": {
    "ExecuteTime": {
     "end_time": "2023-09-19T11:28:47.577715Z",
     "start_time": "2023-09-19T11:28:47.559868Z"
    }
   },
   "outputs": [
    {
     "name": "stdout",
     "output_type": "stream",
     "text": [
      "The average salary expectation among students with high CGPA and more experience is: 14.13\n"
     ]
    }
   ],
   "source": [
    "# Define thresholds for high CGPA and more programming experience\n",
    "high_cgpa_threshold = 6.0  # You can adjust this threshold as needed\n",
    "more_experience_threshold = 4  # You can adjust this threshold as needed\n",
    "\n",
    "# Filter rows where CGPA is high and ProgrammingExperience is more\n",
    "high_cgpa_more_experience = df[(df['CGPA'] >= high_cgpa_threshold) & (df['Month_of_exp_python'] >= more_experience_threshold)]\n",
    "\n",
    "# Calculate the average salary expectation for this subset of students\n",
    "average_salary_expectation = high_cgpa_more_experience['Expected_salary_lac'].mean()\n",
    "\n",
    "# Print the average salary expectation\n",
    "print(f'The average salary expectation among students with high CGPA and more experience is: {average_salary_expectation:.2f}')"
   ]
  },
  {
   "cell_type": "code",
   "execution_count": 122,
   "id": "20f15069",
   "metadata": {
    "ExecuteTime": {
     "end_time": "2023-09-19T11:28:49.924887Z",
     "start_time": "2023-09-19T11:28:48.640566Z"
    }
   },
   "outputs": [
    {
     "data": {
      "text/plain": [
       "<Axes: xlabel='Expected_salary_lac', ylabel='CGPA'>"
      ]
     },
     "execution_count": 122,
     "metadata": {},
     "output_type": "execute_result"
    },
    {
     "data": {
      "image/png": "[encoded data removed]",
      "text/plain": [
       "<Figure size 1000x500 with 1 Axes>"
      ]
     },
     "metadata": {},
     "output_type": "display_data"
    }
   ],
   "source": [
    "plt.figure(figsize=(10,5))\n",
    "\n",
    "plt.subplot(2,1,1)\n",
    "sns.barplot(x=high_cgpa_more_experience['Expected_salary_lac'],y=high_cgpa_more_experience['CGPA'])\n"
   ]
  },
  {
   "cell_type": "code",
   "execution_count": 124,
   "id": "3cfb31db",
   "metadata": {
    "ExecuteTime": {
     "end_time": "2023-09-19T11:28:54.054450Z",
     "start_time": "2023-09-19T11:28:53.885702Z"
    }
   },
   "outputs": [
    {
     "data": {
      "image/png": "[encoded data removed]",
      "text/plain": [
       "<Figure size 800x600 with 1 Axes>"
      ]
     },
     "metadata": {},
     "output_type": "display_data"
    }
   ],
   "source": [
    "high_cgpa_threshold = 3.8\n",
    "more_experience_threshold = 4\n",
    "\n",
    "# Filter rows where CGPA is high and ProgrammingExperience is more\n",
    "high_cgpa_more_experience = df[(df['CGPA'] >= high_cgpa_threshold) & (df['Month_of_exp_python'] >= more_experience_threshold)]\n",
    "\n",
    "# Calculate the average salary expectation for this subset of students\n",
    "average_salary_expectation = high_cgpa_more_experience['Expected_salary_lac'].mean()\n",
    "\n",
    "# Create a bar plot to visualize the average salary expectation\n",
    "plt.figure(figsize=(8, 6))\n",
    "sns.barplot(x=[\"High CGPA & More Exp.\"], y=[average_salary_expectation])\n",
    "plt.xlabel(\"Student Group\")\n",
    "plt.ylabel(\"Average Salary Expectation\")\n",
    "plt.title(\"Average Salary Expectation for High CGPA & More Experience\")\n",
    "plt.xticks(rotation=45)\n",
    "plt.show()"
   ]
  },
  {
   "cell_type": "markdown",
   "id": "3d627e90",
   "metadata": {
    "ExecuteTime": {
     "end_time": "2023-09-06T05:51:59.219562Z",
     "start_time": "2023-09-06T05:51:59.189238Z"
    }
   },
   "source": [
    "#### CONCLUSION: \n",
    "The average salary expectation among students with high CGPA and more experience is: 14.13"
   ]
  }
 ],
 "metadata": {
  "kernelspec": {
   "display_name": "Python 3 (ipykernel)",
   "language": "python",
   "name": "python3"
  },
  "language_info": {
   "codemirror_mode": {
    "name": "ipython",
    "version": 3
   },
   "file_extension": ".py",
   "mimetype": "text/x-python",
   "name": "python",
   "nbconvert_exporter": "python",
   "pygments_lexer": "ipython3",
   "version": "3.10.9"
  }
 },
 "nbformat": 4,
 "nbformat_minor": 5
}
